{
 "cells": [
  {
   "cell_type": "markdown",
   "metadata": {},
   "source": [
    "# The Movies Dataset"
   ]
  },
  {
   "cell_type": "markdown",
   "metadata": {},
   "source": [
    "## Download\n",
    "\n",
    "Download the data from the source to your file system so you can start exploring it. The official dataset is located [here](https://www.kaggle.com/rounakbanik/the-movies-dataset/data) but we **highly** recommend using our slightly cleaned version [here](https://drive.google.com/drive/folders/1ZGp7ORu9nA6l3PyNK_H0MGTXNl4sNMsA?usp=sharing) (where we combined movies, keywords and credits into one DataFrame)."
   ]
  },
  {
   "cell_type": "code",
   "execution_count": 1,
   "metadata": {},
   "outputs": [],
   "source": [
    "import warnings\n",
    "import pandas as pd\n",
    "import numpy as np\n",
    "from sklearn.feature_extraction.text import TfidfVectorizer\n",
    "from sklearn.feature_extraction.text import CountVectorizer\n",
    "from wordcloud import wordcloud, STOPWORDS \n",
    "import glob\n",
    "import string\n",
    "import nltk\n",
    "from nltk.corpus import stopwords\n",
    "from sklearn.model_selection import train_test_split\n",
    "from sklearn.model_selection import train_test_split\n",
    "from sklearn.neighbors import KNeighborsClassifier\n",
    "from sklearn.metrics import accuracy_score\n",
    "from sklearn.ensemble import RandomForestRegressor\n",
    "from sklearn.metrics import mean_squared_error,mean_absolute_error,r2_score\n",
    "import seaborn as sns\n",
    "from sklearn import preprocessing\n",
    "from sklearn.ensemble import RandomForestClassifier \n",
    "from sklearn.tree import DecisionTreeClassifier\n",
    "from sklearn.preprocessing import MultiLabelBinarizer\n",
    "from sklearn.metrics import f1_score\n",
    "from sklearn.linear_model import LogisticRegression\n",
    "from sklearn.multiclass import OneVsRestClassifier\n",
    "import scipy.sparse as sp\n",
    "import matplotlib.pyplot as plt\n",
    "from sklearn.metrics.pairwise import linear_kernel\n",
    "from sklearn.metrics.pairwise import cosine_similarity"
   ]
  },
  {
   "cell_type": "code",
   "execution_count": 2,
   "metadata": {},
   "outputs": [],
   "source": [
    "warnings.filterwarnings(\"ignore\")"
   ]
  },
  {
   "cell_type": "code",
   "execution_count": 3,
   "metadata": {},
   "outputs": [
    {
     "data": {
      "text/html": [
       "<div>\n",
       "<style scoped>\n",
       "    .dataframe tbody tr th:only-of-type {\n",
       "        vertical-align: middle;\n",
       "    }\n",
       "\n",
       "    .dataframe tbody tr th {\n",
       "        vertical-align: top;\n",
       "    }\n",
       "\n",
       "    .dataframe thead th {\n",
       "        text-align: right;\n",
       "    }\n",
       "</style>\n",
       "<table border=\"1\" class=\"dataframe\">\n",
       "  <thead>\n",
       "    <tr style=\"text-align: right;\">\n",
       "      <th></th>\n",
       "      <th>id</th>\n",
       "      <th>title</th>\n",
       "      <th>tagline</th>\n",
       "      <th>description</th>\n",
       "      <th>genres</th>\n",
       "      <th>keywords</th>\n",
       "      <th>date</th>\n",
       "      <th>collection</th>\n",
       "      <th>runtime</th>\n",
       "      <th>revenue</th>\n",
       "      <th>...</th>\n",
       "      <th>director</th>\n",
       "      <th>cast</th>\n",
       "      <th>production_companies</th>\n",
       "      <th>production_countries</th>\n",
       "      <th>popularity</th>\n",
       "      <th>average_vote</th>\n",
       "      <th>num_votes</th>\n",
       "      <th>language</th>\n",
       "      <th>imdb_id</th>\n",
       "      <th>poster_url</th>\n",
       "    </tr>\n",
       "  </thead>\n",
       "  <tbody>\n",
       "    <tr>\n",
       "      <td>0</td>\n",
       "      <td>862</td>\n",
       "      <td>Toy Story</td>\n",
       "      <td>None</td>\n",
       "      <td>Led by Woody, Andy's toys live happily in his ...</td>\n",
       "      <td>animation, comedy, family</td>\n",
       "      <td>jealousy, toy, boy, friendship, friends, rival...</td>\n",
       "      <td>1995-10-30</td>\n",
       "      <td>Toy Story Collection</td>\n",
       "      <td>81</td>\n",
       "      <td>3.73554e+08</td>\n",
       "      <td>...</td>\n",
       "      <td>John Lasseter</td>\n",
       "      <td>Tom Hanks, Tim Allen, Don Rickles, Jim Varney,...</td>\n",
       "      <td>Pixar Animation Studios</td>\n",
       "      <td>United States of America</td>\n",
       "      <td>21.9469</td>\n",
       "      <td>7.7</td>\n",
       "      <td>5415</td>\n",
       "      <td>en</td>\n",
       "      <td>tt0114709</td>\n",
       "      <td>/rhIRbceoE9lR4veEXuwCC2wARtG.jpg</td>\n",
       "    </tr>\n",
       "    <tr>\n",
       "      <td>1</td>\n",
       "      <td>8844</td>\n",
       "      <td>Jumanji</td>\n",
       "      <td>Roll the dice and unleash the excitement!</td>\n",
       "      <td>When siblings Judy and Peter discover an encha...</td>\n",
       "      <td>adventure, fantasy, family</td>\n",
       "      <td>board game, disappearance, based on children's...</td>\n",
       "      <td>1995-12-15</td>\n",
       "      <td>None</td>\n",
       "      <td>104</td>\n",
       "      <td>2.62797e+08</td>\n",
       "      <td>...</td>\n",
       "      <td>Joe Johnston</td>\n",
       "      <td>Robin Williams, Jonathan Hyde, Kirsten Dunst, ...</td>\n",
       "      <td>TriStar Pictures, Teitler Film, Interscope Com...</td>\n",
       "      <td>United States of America</td>\n",
       "      <td>17.0155</td>\n",
       "      <td>6.9</td>\n",
       "      <td>2413</td>\n",
       "      <td>en</td>\n",
       "      <td>tt0113497</td>\n",
       "      <td>/vzmL6fP7aPKNKPRTFnZmiUfciyV.jpg</td>\n",
       "    </tr>\n",
       "    <tr>\n",
       "      <td>2</td>\n",
       "      <td>15602</td>\n",
       "      <td>Grumpier Old Men</td>\n",
       "      <td>Still Yelling. Still Fighting. Still Ready for...</td>\n",
       "      <td>A family wedding reignites the ancient feud be...</td>\n",
       "      <td>romance, comedy</td>\n",
       "      <td>fishing, best friend, duringcreditsstinger, ol...</td>\n",
       "      <td>1995-12-22</td>\n",
       "      <td>Grumpy Old Men Collection</td>\n",
       "      <td>101</td>\n",
       "      <td>0</td>\n",
       "      <td>...</td>\n",
       "      <td>Howard Deutch</td>\n",
       "      <td>Walter Matthau, Jack Lemmon, Ann-Margret, Soph...</td>\n",
       "      <td>Warner Bros., Lancaster Gate</td>\n",
       "      <td>United States of America</td>\n",
       "      <td>11.7129</td>\n",
       "      <td>6.5</td>\n",
       "      <td>92</td>\n",
       "      <td>en</td>\n",
       "      <td>tt0113228</td>\n",
       "      <td>/6ksm1sjKMFLbO7UY2i6G1ju9SML.jpg</td>\n",
       "    </tr>\n",
       "    <tr>\n",
       "      <td>3</td>\n",
       "      <td>31357</td>\n",
       "      <td>Waiting to Exhale</td>\n",
       "      <td>Friends are the people who let you be yourself...</td>\n",
       "      <td>Cheated on, mistreated and stepped on, the wom...</td>\n",
       "      <td>comedy, drama, romance</td>\n",
       "      <td>based on novel, interracial relationship, sing...</td>\n",
       "      <td>1995-12-22</td>\n",
       "      <td>None</td>\n",
       "      <td>127</td>\n",
       "      <td>8.14522e+07</td>\n",
       "      <td>...</td>\n",
       "      <td>Forest Whitaker</td>\n",
       "      <td>Whitney Houston, Angela Bassett, Loretta Devin...</td>\n",
       "      <td>Twentieth Century Fox Film Corporation</td>\n",
       "      <td>United States of America</td>\n",
       "      <td>3.85949</td>\n",
       "      <td>6.1</td>\n",
       "      <td>34</td>\n",
       "      <td>en</td>\n",
       "      <td>tt0114885</td>\n",
       "      <td>/16XOMpEaLWkrcPqSQqhTmeJuqQl.jpg</td>\n",
       "    </tr>\n",
       "    <tr>\n",
       "      <td>4</td>\n",
       "      <td>11862</td>\n",
       "      <td>Father of the Bride Part II</td>\n",
       "      <td>Just When His World Is Back To Normal... He's ...</td>\n",
       "      <td>Just when George Banks has recovered from his ...</td>\n",
       "      <td>comedy</td>\n",
       "      <td>baby, midlife crisis, confidence, aging, daugh...</td>\n",
       "      <td>1995-02-10</td>\n",
       "      <td>Father of the Bride Collection</td>\n",
       "      <td>106</td>\n",
       "      <td>7.65789e+07</td>\n",
       "      <td>...</td>\n",
       "      <td>Charles Shyer</td>\n",
       "      <td>Steve Martin, Diane Keaton, Martin Short, Kimb...</td>\n",
       "      <td>Sandollar Productions, Touchstone Pictures</td>\n",
       "      <td>United States of America</td>\n",
       "      <td>8.38752</td>\n",
       "      <td>5.7</td>\n",
       "      <td>173</td>\n",
       "      <td>en</td>\n",
       "      <td>tt0113041</td>\n",
       "      <td>/e64sOI48hQXyru7naBFyssKFxVd.jpg</td>\n",
       "    </tr>\n",
       "  </tbody>\n",
       "</table>\n",
       "<p>5 rows × 21 columns</p>\n",
       "</div>"
      ],
      "text/plain": [
       "      id                        title  \\\n",
       "0    862                    Toy Story   \n",
       "1   8844                      Jumanji   \n",
       "2  15602             Grumpier Old Men   \n",
       "3  31357            Waiting to Exhale   \n",
       "4  11862  Father of the Bride Part II   \n",
       "\n",
       "                                             tagline  \\\n",
       "0                                               None   \n",
       "1          Roll the dice and unleash the excitement!   \n",
       "2  Still Yelling. Still Fighting. Still Ready for...   \n",
       "3  Friends are the people who let you be yourself...   \n",
       "4  Just When His World Is Back To Normal... He's ...   \n",
       "\n",
       "                                         description  \\\n",
       "0  Led by Woody, Andy's toys live happily in his ...   \n",
       "1  When siblings Judy and Peter discover an encha...   \n",
       "2  A family wedding reignites the ancient feud be...   \n",
       "3  Cheated on, mistreated and stepped on, the wom...   \n",
       "4  Just when George Banks has recovered from his ...   \n",
       "\n",
       "                       genres  \\\n",
       "0   animation, comedy, family   \n",
       "1  adventure, fantasy, family   \n",
       "2             romance, comedy   \n",
       "3      comedy, drama, romance   \n",
       "4                      comedy   \n",
       "\n",
       "                                            keywords        date  \\\n",
       "0  jealousy, toy, boy, friendship, friends, rival...  1995-10-30   \n",
       "1  board game, disappearance, based on children's...  1995-12-15   \n",
       "2  fishing, best friend, duringcreditsstinger, ol...  1995-12-22   \n",
       "3  based on novel, interracial relationship, sing...  1995-12-22   \n",
       "4  baby, midlife crisis, confidence, aging, daugh...  1995-02-10   \n",
       "\n",
       "                       collection runtime      revenue  ...         director  \\\n",
       "0            Toy Story Collection      81  3.73554e+08  ...    John Lasseter   \n",
       "1                            None     104  2.62797e+08  ...     Joe Johnston   \n",
       "2       Grumpy Old Men Collection     101            0  ...    Howard Deutch   \n",
       "3                            None     127  8.14522e+07  ...  Forest Whitaker   \n",
       "4  Father of the Bride Collection     106  7.65789e+07  ...    Charles Shyer   \n",
       "\n",
       "                                                cast  \\\n",
       "0  Tom Hanks, Tim Allen, Don Rickles, Jim Varney,...   \n",
       "1  Robin Williams, Jonathan Hyde, Kirsten Dunst, ...   \n",
       "2  Walter Matthau, Jack Lemmon, Ann-Margret, Soph...   \n",
       "3  Whitney Houston, Angela Bassett, Loretta Devin...   \n",
       "4  Steve Martin, Diane Keaton, Martin Short, Kimb...   \n",
       "\n",
       "                                production_companies  \\\n",
       "0                            Pixar Animation Studios   \n",
       "1  TriStar Pictures, Teitler Film, Interscope Com...   \n",
       "2                       Warner Bros., Lancaster Gate   \n",
       "3             Twentieth Century Fox Film Corporation   \n",
       "4         Sandollar Productions, Touchstone Pictures   \n",
       "\n",
       "       production_countries popularity average_vote num_votes language  \\\n",
       "0  United States of America    21.9469          7.7      5415       en   \n",
       "1  United States of America    17.0155          6.9      2413       en   \n",
       "2  United States of America    11.7129          6.5        92       en   \n",
       "3  United States of America    3.85949          6.1        34       en   \n",
       "4  United States of America    8.38752          5.7       173       en   \n",
       "\n",
       "     imdb_id                        poster_url  \n",
       "0  tt0114709  /rhIRbceoE9lR4veEXuwCC2wARtG.jpg  \n",
       "1  tt0113497  /vzmL6fP7aPKNKPRTFnZmiUfciyV.jpg  \n",
       "2  tt0113228  /6ksm1sjKMFLbO7UY2i6G1ju9SML.jpg  \n",
       "3  tt0114885  /16XOMpEaLWkrcPqSQqhTmeJuqQl.jpg  \n",
       "4  tt0113041  /e64sOI48hQXyru7naBFyssKFxVd.jpg  \n",
       "\n",
       "[5 rows x 21 columns]"
      ]
     },
     "execution_count": 3,
     "metadata": {},
     "output_type": "execute_result"
    }
   ],
   "source": [
    "movies = pd.read_csv('/Users/davidshi/Downloads/movie/movies.csv', header=0)\n",
    "movies = movies.replace({np.nan: None}) # replace NaN with None\n",
    "movies.head()"
   ]
  },
  {
   "cell_type": "code",
   "execution_count": 4,
   "metadata": {},
   "outputs": [
    {
     "data": {
      "text/plain": [
       "id                          0\n",
       "title                       4\n",
       "tagline                 25845\n",
       "description               995\n",
       "genres                   2524\n",
       "keywords                14889\n",
       "date                       88\n",
       "collection              42054\n",
       "runtime                   268\n",
       "revenue                     4\n",
       "budget                      0\n",
       "director                  917\n",
       "cast                     2491\n",
       "production_companies    12282\n",
       "production_countries     6496\n",
       "popularity                  4\n",
       "average_vote                4\n",
       "num_votes                   4\n",
       "language                   11\n",
       "imdb_id                    17\n",
       "poster_url                399\n",
       "dtype: int64"
      ]
     },
     "execution_count": 4,
     "metadata": {},
     "output_type": "execute_result"
    }
   ],
   "source": [
    "movies.isnull().sum()"
   ]
  },
  {
   "cell_type": "code",
   "execution_count": 5,
   "metadata": {},
   "outputs": [
    {
     "data": {
      "text/plain": [
       "(46628, 21)"
      ]
     },
     "execution_count": 5,
     "metadata": {},
     "output_type": "execute_result"
    }
   ],
   "source": [
    "movies.shape"
   ]
  },
  {
   "cell_type": "code",
   "execution_count": 6,
   "metadata": {},
   "outputs": [],
   "source": [
    "def get_year(date):\n",
    "    year = None\n",
    "    if date:\n",
    "        year = date[:4]\n",
    "    return year\n",
    "\n",
    "movies['year'] = movies.date.apply(get_year)"
   ]
  },
  {
   "cell_type": "markdown",
   "metadata": {},
   "source": [
    "## Multilabel Classification on Genre\n",
    "\n",
    "#### Using keywords column to predict Genre\n",
    "\n",
    "Each movie is classified as mulitple genres. I am going to predict the muliple genres using keywords column. String are cleaned and vectorized for algorithems."
   ]
  },
  {
   "cell_type": "code",
   "execution_count": 7,
   "metadata": {},
   "outputs": [],
   "source": [
    "df = movies.dropna(subset = ['title','genres','description'])"
   ]
  },
  {
   "cell_type": "code",
   "execution_count": 8,
   "metadata": {},
   "outputs": [],
   "source": [
    "mlb = MultiLabelBinarizer()\n",
    "mlb.fit(df['genres'])\n",
    "\n",
    "y = mlb.transform(df['genres'])"
   ]
  },
  {
   "cell_type": "code",
   "execution_count": 9,
   "metadata": {},
   "outputs": [],
   "source": [
    "def cleanstring(x):\n",
    "    \n",
    "    x = x.translate(str.maketrans('', '', string.punctuation))\n",
    "    x = [c for c in x.split() if c.lower() not in stopwords.words('english')]\n",
    "    return \" \".join(x)"
   ]
  },
  {
   "cell_type": "code",
   "execution_count": 10,
   "metadata": {},
   "outputs": [],
   "source": [
    "def removepunc(x):\n",
    "    \n",
    "    x = x.translate(str.maketrans('', '', string.punctuation))\n",
    "    return x"
   ]
  },
  {
   "cell_type": "code",
   "execution_count": 11,
   "metadata": {},
   "outputs": [],
   "source": [
    "df['keywords'] = df['keywords'].astype(str)"
   ]
  },
  {
   "cell_type": "code",
   "execution_count": 12,
   "metadata": {},
   "outputs": [],
   "source": [
    "X=df['keywords'].apply(removepunc)\n",
    "X=TfidfVectorizer('english',max_df=0.8,lowercase=True).fit_transform(X)\n",
    "Xtrain,Xtest,ytrain,ytest = train_test_split(X,y,test_size=0.2,random_state=0)"
   ]
  },
  {
   "cell_type": "code",
   "execution_count": 13,
   "metadata": {},
   "outputs": [],
   "source": [
    "lr = LogisticRegression()\n",
    "clf = OneVsRestClassifier(lr)\n",
    "results = pd.DataFrame(columns = ['F1 Score']) "
   ]
  },
  {
   "cell_type": "code",
   "execution_count": 14,
   "metadata": {},
   "outputs": [],
   "source": [
    "for i in range (10):\n",
    "    Xtrain,Xtest,ytrain,ytest = train_test_split(X,y,test_size=0.2,random_state=i)\n",
    "    clf.fit(Xtrain,ytrain)\n",
    "    pred=clf.predict(Xtest)\n",
    "    results=results.append({'F1 Score' : f1_score(ytest,pred,average=\"micro\")}, ignore_index=True)"
   ]
  },
  {
   "cell_type": "code",
   "execution_count": 15,
   "metadata": {},
   "outputs": [
    {
     "data": {
      "text/plain": [
       "<matplotlib.axes._subplots.AxesSubplot at 0x7ffe26d59910>"
      ]
     },
     "execution_count": 15,
     "metadata": {},
     "output_type": "execute_result"
    },
    {
     "data": {
      "image/png": "[encoded data removed]",
      "text/plain": [
       "<Figure size 576x576 with 1 Axes>"
      ]
     },
     "metadata": {
      "needs_background": "light"
     },
     "output_type": "display_data"
    }
   ],
   "source": [
    "plt.figure(figsize=(8,8))\n",
    "plt.title('F1 Score')\n",
    "sns.boxplot(x=results['F1 Score'])"
   ]
  },
  {
   "cell_type": "markdown",
   "metadata": {},
   "source": [
    "#### Using description column to predict Genre"
   ]
  },
  {
   "cell_type": "code",
   "execution_count": 16,
   "metadata": {},
   "outputs": [],
   "source": [
    "X2 = df['description'].astype(str)\n",
    "X2 = TfidfVectorizer('english',max_df=0.8,lowercase=True).fit_transform(X2)"
   ]
  },
  {
   "cell_type": "code",
   "execution_count": 17,
   "metadata": {},
   "outputs": [
    {
     "data": {
      "text/plain": [
       "<matplotlib.axes._subplots.AxesSubplot at 0x7ffe26d5e910>"
      ]
     },
     "execution_count": 17,
     "metadata": {},
     "output_type": "execute_result"
    },
    {
     "data": {
      "image/png": "[encoded data removed]",
      "text/plain": [
       "<Figure size 576x576 with 1 Axes>"
      ]
     },
     "metadata": {
      "needs_background": "light"
     },
     "output_type": "display_data"
    }
   ],
   "source": [
    "results = pd.DataFrame(columns = ['F1 Score']) \n",
    "for i in range (10):\n",
    "    Xtrain,Xtest,ytrain,ytest = train_test_split(X2,y,test_size=0.2,random_state=i)\n",
    "    clf.fit(Xtrain,ytrain)\n",
    "    pred=clf.predict(Xtest)\n",
    "    results=results.append({'F1 Score' : f1_score(ytest,pred,average=\"micro\")}, ignore_index=True)\n",
    "plt.figure(figsize=(8,8))\n",
    "plt.title('F1 Score')\n",
    "sns.boxplot(x=results['F1 Score'])"
   ]
  },
  {
   "cell_type": "markdown",
   "metadata": {},
   "source": [
    "#### Using description and keywords column to predict Genre\n",
    "\n",
    "concatenated sparse matrix"
   ]
  },
  {
   "cell_type": "markdown",
   "metadata": {},
   "source": [
    "X = sp.hstack([X,X2],format='csr')\n",
    "results = pd.DataFrame(columns = ['F1 Score']) \n",
    "for i in range (10):\n",
    "    Xtrain,Xtest,ytrain,ytest = train_test_split(X,y,test_size=0.2,random_state=i)\n",
    "    clf.fit(Xtrain,ytrain)\n",
    "    pred=clf.predict(Xtest)\n",
    "    results=results.append({'F1 Score' : f1_score(ytest,pred,average=\"micro\")}, ignore_index=True)\n",
    "plt.figure(figsize=(8,8))\n",
    "plt.title('F1 Score')\n",
    "sns.boxplot(x=results['F1 Score'])"
   ]
  },
  {
   "cell_type": "markdown",
   "metadata": {},
   "source": [
    "## movie recommendations by rating and popularity"
   ]
  },
  {
   "cell_type": "markdown",
   "metadata": {},
   "source": [
    "Although data already provides average rating, this can be quite misleading. When comparing two average ratings the consideration of number of votes is very important. Movie 1 can have a rating of 9.0 with only 3 votes compared to Movie 2 having a rating of 8.0 with 50 votes. In this situation Movie 1's rating is very biased due to the low amount of voters. To tackle this problem IMBD have a weight rating formula.\n",
    "\n",
    "Weighted Rating = (vR)/(v+m) + (mC)/(v+m)\n",
    "\n",
    "m = minimum votes to be listed in chart ( we will assume movies with 85 percentile number of voters to be relevant)  \n",
    "C = mean of average rating for all movies  \n",
    "R = average rating for specific movie  \n",
    "v = number of votes for specific movie"
   ]
  },
  {
   "cell_type": "code",
   "execution_count": 18,
   "metadata": {},
   "outputs": [],
   "source": [
    "m=df['num_votes'].quantile(0.85)\n",
    "C=df['average_vote'].mean()\n",
    "df2=df[df['num_votes']>m]"
   ]
  },
  {
   "cell_type": "code",
   "execution_count": 19,
   "metadata": {},
   "outputs": [],
   "source": [
    "def weightedrating(j,m=m,C=C):\n",
    "    v=j['num_votes']\n",
    "    R=j['average_vote']\n",
    "    \n",
    "    return (v*R)/(v+m) + (m*C)/(v+m)"
   ]
  },
  {
   "cell_type": "code",
   "execution_count": 20,
   "metadata": {},
   "outputs": [],
   "source": [
    "df2['imbd_wr']=df.apply(weightedrating,axis=1)"
   ]
  },
  {
   "cell_type": "code",
   "execution_count": 21,
   "metadata": {},
   "outputs": [
    {
     "data": {
      "text/plain": [
       "(43372, 22)"
      ]
     },
     "execution_count": 21,
     "metadata": {},
     "output_type": "execute_result"
    }
   ],
   "source": [
    "df.shape"
   ]
  },
  {
   "cell_type": "code",
   "execution_count": 22,
   "metadata": {},
   "outputs": [
    {
     "data": {
      "text/plain": [
       "(6482, 23)"
      ]
     },
     "execution_count": 22,
     "metadata": {},
     "output_type": "execute_result"
    }
   ],
   "source": [
    "df2.shape"
   ]
  },
  {
   "cell_type": "code",
   "execution_count": 23,
   "metadata": {},
   "outputs": [],
   "source": [
    "df.set_index('id')\n",
    "df2.set_index('id')\n",
    "df['imbd_wr']=df2['imbd_wr']"
   ]
  },
  {
   "cell_type": "code",
   "execution_count": 24,
   "metadata": {},
   "outputs": [],
   "source": [
    "df['genres']=df['genres'].str.split(', ')\n",
    "s = df.apply(lambda x: pd.Series(x['genres']),axis=1).stack().reset_index(level=1, drop=True)\n",
    "s.name = 'genre'\n",
    "gen_df = df.drop('genres', axis=1).join(s)"
   ]
  },
  {
   "cell_type": "markdown",
   "metadata": {},
   "source": [
    "This seperates the genre column by listing movies duplicately in dataframe. Example would be:  \n",
    "\n",
    "--before--  \n",
    "movie 1 : [comedy,dance]        \n",
    "\n",
    "--after--   \n",
    "movie 1 : [comedy]  \n",
    "movie 1 : [dance]"
   ]
  },
  {
   "cell_type": "code",
   "execution_count": 25,
   "metadata": {},
   "outputs": [],
   "source": [
    "def genre_rec(genre,method):\n",
    "    if(method == 'popularity'):\n",
    "        x = gen_df[gen_df['genre']==genre]\n",
    "        x=x.reset_index(drop=True)\n",
    "        return x[['title','year',method]].sort_values(by=[method],ascending=False).head(20)\n",
    "    \n",
    "    if(method =='imbd_wr'):\n",
    "        x = gen_df[gen_df['genre']==genre]\n",
    "        x=x.reset_index(drop=True)\n",
    "        return x[['title','year',method]].sort_values(by=[method],ascending=False).head(20)"
   ]
  },
  {
   "cell_type": "code",
   "execution_count": 26,
   "metadata": {},
   "outputs": [
    {
     "data": {
      "text/html": [
       "<div>\n",
       "<style scoped>\n",
       "    .dataframe tbody tr th:only-of-type {\n",
       "        vertical-align: middle;\n",
       "    }\n",
       "\n",
       "    .dataframe tbody tr th {\n",
       "        vertical-align: top;\n",
       "    }\n",
       "\n",
       "    .dataframe thead th {\n",
       "        text-align: right;\n",
       "    }\n",
       "</style>\n",
       "<table border=\"1\" class=\"dataframe\">\n",
       "  <thead>\n",
       "    <tr style=\"text-align: right;\">\n",
       "      <th></th>\n",
       "      <th>title</th>\n",
       "      <th>year</th>\n",
       "      <th>imbd_wr</th>\n",
       "    </tr>\n",
       "  </thead>\n",
       "  <tbody>\n",
       "    <tr>\n",
       "      <td>53</td>\n",
       "      <td>Psycho</td>\n",
       "      <td>1960</td>\n",
       "      <td>8.206322</td>\n",
       "    </tr>\n",
       "    <tr>\n",
       "      <td>56</td>\n",
       "      <td>The Shining</td>\n",
       "      <td>1980</td>\n",
       "      <td>8.045797</td>\n",
       "    </tr>\n",
       "    <tr>\n",
       "      <td>51</td>\n",
       "      <td>Alien</td>\n",
       "      <td>1979</td>\n",
       "      <td>7.857514</td>\n",
       "    </tr>\n",
       "    <tr>\n",
       "      <td>168</td>\n",
       "      <td>The Thing</td>\n",
       "      <td>1982</td>\n",
       "      <td>7.690211</td>\n",
       "    </tr>\n",
       "    <tr>\n",
       "      <td>50</td>\n",
       "      <td>Aliens</td>\n",
       "      <td>1986</td>\n",
       "      <td>7.646700</td>\n",
       "    </tr>\n",
       "    <tr>\n",
       "      <td>4230</td>\n",
       "      <td>Train to Busan</td>\n",
       "      <td>2016</td>\n",
       "      <td>7.532656</td>\n",
       "    </tr>\n",
       "    <tr>\n",
       "      <td>4679</td>\n",
       "      <td>Black Mirror: White Christmas</td>\n",
       "      <td>2014</td>\n",
       "      <td>7.523496</td>\n",
       "    </tr>\n",
       "    <tr>\n",
       "      <td>87</td>\n",
       "      <td>Jaws</td>\n",
       "      <td>1975</td>\n",
       "      <td>7.440498</td>\n",
       "    </tr>\n",
       "    <tr>\n",
       "      <td>834</td>\n",
       "      <td>Shaun of the Dead</td>\n",
       "      <td>2004</td>\n",
       "      <td>7.437046</td>\n",
       "    </tr>\n",
       "    <tr>\n",
       "      <td>140</td>\n",
       "      <td>The Exorcist</td>\n",
       "      <td>1973</td>\n",
       "      <td>7.424285</td>\n",
       "    </tr>\n",
       "    <tr>\n",
       "      <td>2173</td>\n",
       "      <td>The Conjuring</td>\n",
       "      <td>2013</td>\n",
       "      <td>7.353137</td>\n",
       "    </tr>\n",
       "    <tr>\n",
       "      <td>1343</td>\n",
       "      <td>Let the Right One In</td>\n",
       "      <td>2008</td>\n",
       "      <td>7.351216</td>\n",
       "    </tr>\n",
       "    <tr>\n",
       "      <td>159</td>\n",
       "      <td>Rosemary's Baby</td>\n",
       "      <td>1968</td>\n",
       "      <td>7.335308</td>\n",
       "    </tr>\n",
       "    <tr>\n",
       "      <td>1707</td>\n",
       "      <td>I Saw the Devil</td>\n",
       "      <td>2010</td>\n",
       "      <td>7.326398</td>\n",
       "    </tr>\n",
       "    <tr>\n",
       "      <td>479</td>\n",
       "      <td>The Others</td>\n",
       "      <td>2001</td>\n",
       "      <td>7.315057</td>\n",
       "    </tr>\n",
       "    <tr>\n",
       "      <td>83</td>\n",
       "      <td>Nosferatu</td>\n",
       "      <td>1922</td>\n",
       "      <td>7.311819</td>\n",
       "    </tr>\n",
       "    <tr>\n",
       "      <td>57</td>\n",
       "      <td>Evil Dead II</td>\n",
       "      <td>1987</td>\n",
       "      <td>7.309732</td>\n",
       "    </tr>\n",
       "    <tr>\n",
       "      <td>178</td>\n",
       "      <td>King Kong</td>\n",
       "      <td>1933</td>\n",
       "      <td>7.287780</td>\n",
       "    </tr>\n",
       "    <tr>\n",
       "      <td>125</td>\n",
       "      <td>Halloween</td>\n",
       "      <td>1978</td>\n",
       "      <td>7.267883</td>\n",
       "    </tr>\n",
       "    <tr>\n",
       "      <td>42</td>\n",
       "      <td>Night of the Living Dead</td>\n",
       "      <td>1968</td>\n",
       "      <td>7.262514</td>\n",
       "    </tr>\n",
       "  </tbody>\n",
       "</table>\n",
       "</div>"
      ],
      "text/plain": [
       "                              title  year   imbd_wr\n",
       "53                           Psycho  1960  8.206322\n",
       "56                      The Shining  1980  8.045797\n",
       "51                            Alien  1979  7.857514\n",
       "168                       The Thing  1982  7.690211\n",
       "50                           Aliens  1986  7.646700\n",
       "4230                 Train to Busan  2016  7.532656\n",
       "4679  Black Mirror: White Christmas  2014  7.523496\n",
       "87                             Jaws  1975  7.440498\n",
       "834               Shaun of the Dead  2004  7.437046\n",
       "140                    The Exorcist  1973  7.424285\n",
       "2173                  The Conjuring  2013  7.353137\n",
       "1343           Let the Right One In  2008  7.351216\n",
       "159                 Rosemary's Baby  1968  7.335308\n",
       "1707                I Saw the Devil  2010  7.326398\n",
       "479                      The Others  2001  7.315057\n",
       "83                        Nosferatu  1922  7.311819\n",
       "57                     Evil Dead II  1987  7.309732\n",
       "178                       King Kong  1933  7.287780\n",
       "125                       Halloween  1978  7.267883\n",
       "42         Night of the Living Dead  1968  7.262514"
      ]
     },
     "execution_count": 26,
     "metadata": {},
     "output_type": "execute_result"
    }
   ],
   "source": [
    "genre_rec('horror','imbd_wr')"
   ]
  },
  {
   "cell_type": "code",
   "execution_count": 27,
   "metadata": {},
   "outputs": [
    {
     "data": {
      "text/html": [
       "<div>\n",
       "<style scoped>\n",
       "    .dataframe tbody tr th:only-of-type {\n",
       "        vertical-align: middle;\n",
       "    }\n",
       "\n",
       "    .dataframe tbody tr th {\n",
       "        vertical-align: top;\n",
       "    }\n",
       "\n",
       "    .dataframe thead th {\n",
       "        text-align: right;\n",
       "    }\n",
       "</style>\n",
       "<table border=\"1\" class=\"dataframe\">\n",
       "  <thead>\n",
       "    <tr style=\"text-align: right;\">\n",
       "      <th></th>\n",
       "      <th>title</th>\n",
       "      <th>year</th>\n",
       "      <th>popularity</th>\n",
       "    </tr>\n",
       "  </thead>\n",
       "  <tbody>\n",
       "    <tr>\n",
       "      <td>9119</td>\n",
       "      <td>Minions</td>\n",
       "      <td>2015</td>\n",
       "      <td>547.488</td>\n",
       "    </tr>\n",
       "    <tr>\n",
       "      <td>7437</td>\n",
       "      <td>Big Hero 6</td>\n",
       "      <td>2014</td>\n",
       "      <td>213.85</td>\n",
       "    </tr>\n",
       "    <tr>\n",
       "      <td>8025</td>\n",
       "      <td>Deadpool</td>\n",
       "      <td>2016</td>\n",
       "      <td>187.86</td>\n",
       "    </tr>\n",
       "    <tr>\n",
       "      <td>8026</td>\n",
       "      <td>Guardians of the Galaxy Vol. 2</td>\n",
       "      <td>2017</td>\n",
       "      <td>185.331</td>\n",
       "    </tr>\n",
       "    <tr>\n",
       "      <td>8024</td>\n",
       "      <td>Pirates of the Caribbean: Dead Men Tell No Tales</td>\n",
       "      <td>2017</td>\n",
       "      <td>133.828</td>\n",
       "    </tr>\n",
       "    <tr>\n",
       "      <td>12415</td>\n",
       "      <td>Captain Underpants: The First Epic Movie</td>\n",
       "      <td>2017</td>\n",
       "      <td>88.5612</td>\n",
       "    </tr>\n",
       "    <tr>\n",
       "      <td>127</td>\n",
       "      <td>Forrest Gump</td>\n",
       "      <td>1994</td>\n",
       "      <td>48.3072</td>\n",
       "    </tr>\n",
       "    <tr>\n",
       "      <td>9113</td>\n",
       "      <td>Ted 2</td>\n",
       "      <td>2015</td>\n",
       "      <td>42.0615</td>\n",
       "    </tr>\n",
       "    <tr>\n",
       "      <td>11283</td>\n",
       "      <td>Now You See Me 2</td>\n",
       "      <td>2016</td>\n",
       "      <td>39.5407</td>\n",
       "    </tr>\n",
       "    <tr>\n",
       "      <td>785</td>\n",
       "      <td>Life Is Beautiful</td>\n",
       "      <td>1997</td>\n",
       "      <td>39.395</td>\n",
       "    </tr>\n",
       "    <tr>\n",
       "      <td>12990</td>\n",
       "      <td>Girls Trip</td>\n",
       "      <td>2017</td>\n",
       "      <td>37.9649</td>\n",
       "    </tr>\n",
       "    <tr>\n",
       "      <td>12685</td>\n",
       "      <td>Despicable Me 3</td>\n",
       "      <td>2017</td>\n",
       "      <td>36.6315</td>\n",
       "    </tr>\n",
       "    <tr>\n",
       "      <td>12397</td>\n",
       "      <td>Baywatch</td>\n",
       "      <td>2017</td>\n",
       "      <td>35.6377</td>\n",
       "    </tr>\n",
       "    <tr>\n",
       "      <td>3664</td>\n",
       "      <td>Dilwale Dulhania Le Jayenge</td>\n",
       "      <td>1995</td>\n",
       "      <td>34.457</td>\n",
       "    </tr>\n",
       "    <tr>\n",
       "      <td>12969</td>\n",
       "      <td>The Emoji Movie</td>\n",
       "      <td>2017</td>\n",
       "      <td>33.6946</td>\n",
       "    </tr>\n",
       "    <tr>\n",
       "      <td>12918</td>\n",
       "      <td>The House</td>\n",
       "      <td>2017</td>\n",
       "      <td>30.1468</td>\n",
       "    </tr>\n",
       "    <tr>\n",
       "      <td>7733</td>\n",
       "      <td>Kingsman: The Secret Service</td>\n",
       "      <td>2015</td>\n",
       "      <td>28.2242</td>\n",
       "    </tr>\n",
       "    <tr>\n",
       "      <td>12394</td>\n",
       "      <td>Diary of a Wimpy Kid: The Long Haul</td>\n",
       "      <td>2017</td>\n",
       "      <td>28.177</td>\n",
       "    </tr>\n",
       "    <tr>\n",
       "      <td>7263</td>\n",
       "      <td>Sex Tape</td>\n",
       "      <td>2014</td>\n",
       "      <td>27.4707</td>\n",
       "    </tr>\n",
       "    <tr>\n",
       "      <td>1767</td>\n",
       "      <td>Monsters, Inc.</td>\n",
       "      <td>2001</td>\n",
       "      <td>26.42</td>\n",
       "    </tr>\n",
       "  </tbody>\n",
       "</table>\n",
       "</div>"
      ],
      "text/plain": [
       "                                                  title  year popularity\n",
       "9119                                            Minions  2015    547.488\n",
       "7437                                         Big Hero 6  2014     213.85\n",
       "8025                                           Deadpool  2016     187.86\n",
       "8026                     Guardians of the Galaxy Vol. 2  2017    185.331\n",
       "8024   Pirates of the Caribbean: Dead Men Tell No Tales  2017    133.828\n",
       "12415          Captain Underpants: The First Epic Movie  2017    88.5612\n",
       "127                                        Forrest Gump  1994    48.3072\n",
       "9113                                              Ted 2  2015    42.0615\n",
       "11283                                  Now You See Me 2  2016    39.5407\n",
       "785                                   Life Is Beautiful  1997     39.395\n",
       "12990                                        Girls Trip  2017    37.9649\n",
       "12685                                   Despicable Me 3  2017    36.6315\n",
       "12397                                          Baywatch  2017    35.6377\n",
       "3664                        Dilwale Dulhania Le Jayenge  1995     34.457\n",
       "12969                                   The Emoji Movie  2017    33.6946\n",
       "12918                                         The House  2017    30.1468\n",
       "7733                       Kingsman: The Secret Service  2015    28.2242\n",
       "12394               Diary of a Wimpy Kid: The Long Haul  2017     28.177\n",
       "7263                                           Sex Tape  2014    27.4707\n",
       "1767                                     Monsters, Inc.  2001      26.42"
      ]
     },
     "execution_count": 27,
     "metadata": {},
     "output_type": "execute_result"
    }
   ],
   "source": [
    "genre_rec('comedy','popularity')"
   ]
  },
  {
   "cell_type": "code",
   "execution_count": 28,
   "metadata": {},
   "outputs": [
    {
     "data": {
      "text/plain": [
       "Text(0.5, 1.0, 'Genre Average Ratings')"
      ]
     },
     "execution_count": 28,
     "metadata": {},
     "output_type": "execute_result"
    },
    {
     "data": {
      "image/png": "[encoded data removed]",
      "text/plain": [
       "<Figure size 1440x432 with 1 Axes>"
      ]
     },
     "metadata": {
      "needs_background": "light"
     },
     "output_type": "display_data"
    }
   ],
   "source": [
    "plt.figure(figsize=(20,6))\n",
    "plt.ylim(5,6.5)\n",
    "sns.barplot(x='genre',y='average_vote',data=gen_df)\n",
    "plt.xticks(rotation=45)\n",
    "plt.title('Genre Average Ratings', fontsize=20)"
   ]
  },
  {
   "cell_type": "markdown",
   "metadata": {},
   "source": [
    "## movie recommendations by plot similarity\n",
    "\n"
   ]
  },
  {
   "cell_type": "code",
   "execution_count": 29,
   "metadata": {},
   "outputs": [],
   "source": [
    "tfidf_matrix = TfidfVectorizer(stop_words='english').fit_transform(df['description'])"
   ]
  },
  {
   "cell_type": "code",
   "execution_count": 30,
   "metadata": {},
   "outputs": [
    {
     "data": {
      "text/plain": [
       "(43372, 73186)"
      ]
     },
     "execution_count": 30,
     "metadata": {},
     "output_type": "execute_result"
    }
   ],
   "source": [
    "tfidf_matrix.shape"
   ]
  },
  {
   "cell_type": "markdown",
   "metadata": {},
   "source": [
    "description column is vectorized and transformed into TF-IDF matrix. 70000+ words describing 40000+ movies."
   ]
  },
  {
   "cell_type": "code",
   "execution_count": 31,
   "metadata": {},
   "outputs": [],
   "source": [
    "df = df.reset_index(drop=True)"
   ]
  },
  {
   "cell_type": "code",
   "execution_count": 32,
   "metadata": {},
   "outputs": [],
   "source": [
    "indices = pd.Series(df.index, index=df['title'])\n",
    "cosine_sim = linear_kernel(tfidf_matrix, tfidf_matrix)"
   ]
  },
  {
   "cell_type": "code",
   "execution_count": 33,
   "metadata": {},
   "outputs": [
    {
     "data": {
      "text/plain": [
       "title\n",
       "Toy Story                          0\n",
       "Jumanji                            1\n",
       "Grumpier Old Men                   2\n",
       "Waiting to Exhale                  3\n",
       "Father of the Bride Part II        4\n",
       "                               ...  \n",
       "Caged Heat 3000                43367\n",
       "Robin Hood                     43368\n",
       "Subdue                         43369\n",
       "Century of Birthing            43370\n",
       "Betrayal                       43371\n",
       "Length: 43372, dtype: int64"
      ]
     },
     "execution_count": 33,
     "metadata": {},
     "output_type": "execute_result"
    }
   ],
   "source": [
    "indices ##movie array"
   ]
  },
  {
   "cell_type": "markdown",
   "metadata": {},
   "source": [
    "redoing index so index can match between movie array and cosine similiarty matrix. Calculating the dot product / scalar product of TF-IDF vectorized data will give cosine similiarity score."
   ]
  },
  {
   "cell_type": "code",
   "execution_count": 34,
   "metadata": {},
   "outputs": [],
   "source": [
    "def get_recommendations(title, cosine_sim=cosine_sim):\n",
    "    # Get the index of movie \n",
    "    idx = indices[title]\n",
    "\n",
    "    # pair similarity scores \n",
    "    sim_scores = list(enumerate(cosine_sim[idx]))\n",
    "\n",
    "    # Sort the movies based on similarity scores\n",
    "    sim_scores = sorted(sim_scores, key=lambda x: x[1], reverse=True)\n",
    "\n",
    "   \n",
    "    sim_scores = sim_scores[1:11]\n",
    "    movie_indices = [i[0] for i in sim_scores]\n",
    "    return df['title'].iloc[movie_indices]"
   ]
  },
  {
   "cell_type": "code",
   "execution_count": 35,
   "metadata": {},
   "outputs": [
    {
     "data": {
      "text/plain": [
       "20713                          Despicable Me 2\n",
       "18175                      What's Up, Scarlet?\n",
       "10463                A Story of Floating Weeds\n",
       "30034                  The Mother Of Invention\n",
       "16020                              Madam Satan\n",
       "30908                        The Invisible Boy\n",
       "302                    Stuart Saves His Family\n",
       "43091                                   Banana\n",
       "5618                             Soul Assassin\n",
       "7958     Sherlock Holmes and the Secret Weapon\n",
       "Name: title, dtype: object"
      ]
     },
     "execution_count": 35,
     "metadata": {},
     "output_type": "execute_result"
    }
   ],
   "source": [
    "get_recommendations('Minions')"
   ]
  },
  {
   "cell_type": "code",
   "execution_count": 36,
   "metadata": {},
   "outputs": [
    {
     "data": {
      "text/plain": [
       "15210                                     Toy Story 3\n",
       "2938                                      Toy Story 2\n",
       "23852                                       Small Fry\n",
       "10200                          The 40 Year Old Virgin\n",
       "23218                     Andy Hardy's Blonde Trouble\n",
       "37146    Superstar: The Life and Times of Andy Warhol\n",
       "40952    Andy Peters: Exclamation Mark Question Point\n",
       "8243                                        The Champ\n",
       "1047                            Rebel Without a Cause\n",
       "26371                      Life Begins for Andy Hardy\n",
       "Name: title, dtype: object"
      ]
     },
     "execution_count": 36,
     "metadata": {},
     "output_type": "execute_result"
    }
   ],
   "source": [
    "get_recommendations('Toy Story')"
   ]
  },
  {
   "cell_type": "markdown",
   "metadata": {},
   "source": [
    "movie recommendation by cast, keywords, genre. Using count vectorizer to weigh frequency of repeating cast and repeating keywords in multiple movies."
   ]
  },
  {
   "cell_type": "code",
   "execution_count": 37,
   "metadata": {},
   "outputs": [
    {
     "data": {
      "text/plain": [
       "id                          0\n",
       "title                       0\n",
       "tagline                 22870\n",
       "description                 0\n",
       "genres                      0\n",
       "keywords                    0\n",
       "date                       23\n",
       "collection              38914\n",
       "runtime                     0\n",
       "revenue                     0\n",
       "budget                      0\n",
       "director                  539\n",
       "cast                     1713\n",
       "production_companies     9744\n",
       "production_countries     4687\n",
       "popularity                  0\n",
       "average_vote                0\n",
       "num_votes                   0\n",
       "language                    9\n",
       "imdb_id                    10\n",
       "poster_url                168\n",
       "year                       23\n",
       "imbd_wr                 36890\n",
       "dtype: int64"
      ]
     },
     "execution_count": 37,
     "metadata": {},
     "output_type": "execute_result"
    }
   ],
   "source": [
    "df.isnull().sum()"
   ]
  },
  {
   "cell_type": "code",
   "execution_count": 38,
   "metadata": {},
   "outputs": [],
   "source": [
    "df = df.dropna(subset = ['cast'])\n",
    "df = df.reset_index(drop=True)\n",
    "indices = pd.Series(df.index, index=df['title'])"
   ]
  },
  {
   "cell_type": "code",
   "execution_count": 39,
   "metadata": {},
   "outputs": [
    {
     "data": {
      "text/plain": [
       "0        Tom Hanks Tim Allen Don Rickles Jim Varney Wal...\n",
       "1        Robin Williams Jonathan Hyde Kirsten Dunst Bra...\n",
       "2        Walter Matthau Jack Lemmon AnnMargret Sophia L...\n",
       "3        Whitney Houston Angela Bassett Loretta Devine ...\n",
       "4        Steve Martin Diane Keaton Martin Short Kimberl...\n",
       "                               ...                        \n",
       "41654    Lisa Boyle Kena Land Zaneta Polard Don Yanan D...\n",
       "41655    Patrick Bergin Uma Thurman David Morrissey Jür...\n",
       "41656              Leila Hatami Kourosh Tahami Elham Korda\n",
       "41657    Angel Aquino Perry Dizon Hazel Orencio Joel To...\n",
       "41658    Erika Eleniak Adam Baldwin Julie du Page James...\n",
       "Name: cast, Length: 41659, dtype: object"
      ]
     },
     "execution_count": 39,
     "metadata": {},
     "output_type": "execute_result"
    }
   ],
   "source": [
    "df['cast'].apply(removepunc)"
   ]
  },
  {
   "cell_type": "code",
   "execution_count": 40,
   "metadata": {},
   "outputs": [
    {
     "data": {
      "text/plain": [
       "0        jealousy toy boy friendship friends rivalry bo...\n",
       "1        board game disappearance based on childrens bo...\n",
       "2         fishing best friend duringcreditsstinger old men\n",
       "3        based on novel interracial relationship single...\n",
       "4        baby midlife crisis confidence aging daughter ...\n",
       "                               ...                        \n",
       "41654                                                 None\n",
       "41655                                                 None\n",
       "41656                                          tragic love\n",
       "41657                                    artist play pinoy\n",
       "41658                                                 None\n",
       "Name: keywords, Length: 41659, dtype: object"
      ]
     },
     "execution_count": 40,
     "metadata": {},
     "output_type": "execute_result"
    }
   ],
   "source": [
    "df['keywords'].apply(removepunc)"
   ]
  },
  {
   "cell_type": "code",
   "execution_count": 41,
   "metadata": {},
   "outputs": [],
   "source": [
    "def listToString(s): \n",
    "    str1 = \" \" \n",
    "    return (str1.join(s))"
   ]
  },
  {
   "cell_type": "code",
   "execution_count": 42,
   "metadata": {},
   "outputs": [
    {
     "data": {
      "text/plain": [
       "0         animation comedy family\n",
       "1        adventure fantasy family\n",
       "2                  romance comedy\n",
       "3            comedy drama romance\n",
       "4                          comedy\n",
       "                   ...           \n",
       "41654             science fiction\n",
       "41655        drama action romance\n",
       "41656                drama family\n",
       "41657                       drama\n",
       "41658       action drama thriller\n",
       "Name: genres, Length: 41659, dtype: object"
      ]
     },
     "execution_count": 42,
     "metadata": {},
     "output_type": "execute_result"
    }
   ],
   "source": [
    "df['genres'].apply(listToString)"
   ]
  },
  {
   "cell_type": "code",
   "execution_count": 43,
   "metadata": {},
   "outputs": [],
   "source": [
    "X = df['cast'].apply(removepunc) + df['keywords'].apply(removepunc) + df['genres'].apply(listToString)"
   ]
  },
  {
   "cell_type": "code",
   "execution_count": 44,
   "metadata": {},
   "outputs": [],
   "source": [
    "count_matrix = CountVectorizer('english').fit_transform(X)"
   ]
  },
  {
   "cell_type": "code",
   "execution_count": 45,
   "metadata": {},
   "outputs": [],
   "source": [
    "cosine_sim = cosine_similarity(count_matrix,count_matrix)"
   ]
  },
  {
   "cell_type": "code",
   "execution_count": 46,
   "metadata": {},
   "outputs": [
    {
     "data": {
      "text/plain": [
       "40104                              Binky Nelson Unpacified\n",
       "25610                              The Wind in the Willows\n",
       "24511                                       Tactical Force\n",
       "40487                                      Despicable Me 3\n",
       "9190                      High Roller: The Stu Ungar Story\n",
       "9102                                           Kung Phooey\n",
       "15246                                  Life During Wartime\n",
       "22831                      A Good Job: Stories of the FDNY\n",
       "29294    Michael Jackson Dangerous Tour - Bucharest - 1992\n",
       "31477                             N: The Madness Of Reason\n",
       "Name: title, dtype: object"
      ]
     },
     "execution_count": 46,
     "metadata": {},
     "output_type": "execute_result"
    }
   ],
   "source": [
    "get_recommendations('Minions',cosine_sim)"
   ]
  },
  {
   "cell_type": "code",
   "execution_count": 47,
   "metadata": {},
   "outputs": [
    {
     "data": {
      "text/plain": [
       "2916                        Toy Story 2\n",
       "14977                       Toy Story 3\n",
       "24332        Toy Story That Time Forgot\n",
       "20895              Toy Story of Terror!\n",
       "23205                 Hawaiian Vacation\n",
       "23206                         Small Fry\n",
       "24330                   Partysaurus Rex\n",
       "2608                                Big\n",
       "6100     Gigantic (A Tale Of Two Johns)\n",
       "1748                     Small Soldiers\n",
       "Name: title, dtype: object"
      ]
     },
     "execution_count": 47,
     "metadata": {},
     "output_type": "execute_result"
    }
   ],
   "source": [
    "get_recommendations('Toy Story', cosine_sim)"
   ]
  },
  {
   "cell_type": "markdown",
   "metadata": {},
   "source": [
    "Using different columns to get recommendations did yield different results"
   ]
  },
  {
   "cell_type": "code",
   "execution_count": null,
   "metadata": {},
   "outputs": [],
   "source": []
  },
  {
   "cell_type": "code",
   "execution_count": null,
   "metadata": {},
   "outputs": [],
   "source": []
  }
 ],
 "metadata": {
  "kernelspec": {
   "display_name": "Python 3",
   "language": "python",
   "name": "python3"
  },
  "language_info": {
   "codemirror_mode": {
    "name": "ipython",
    "version": 3
   },
   "file_extension": ".py",
   "mimetype": "text/x-python",
   "name": "python",
   "nbconvert_exporter": "python",
   "pygments_lexer": "ipython3",
   "version": "3.7.4"
  }
 },
 "nbformat": 4,
 "nbformat_minor": 2
}
