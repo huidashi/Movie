{
 "cells": [
  {
   "cell_type": "markdown",
   "metadata": {
    "colab_type": "text",
    "id": "Iex-uLrdaAUn"
   },
   "source": [
    "# The Movies Dataset\n",
    "\n",
    "<div align=\"left\">\n",
    "<a href=\"https://github.com/madewithml/incubator/blob/master/datasets/movies/data.ipynb\" role=\"button\"><img class=\"notebook-badge-image\" src=\"https://img.shields.io/static/v1?label=&amp;message=View%20On%20GitHub&amp;color=586069&amp;logo=github&amp;labelColor=2f363d\"></a>&nbsp;\n",
    "<a href=\"https://colab.research.google.com/github/madewithml/incubator/blob/master/movies/data.ipynb\"><img class=\"notebook-badge-image\" src=\"https://colab.research.google.com/assets/colab-badge.svg\" alt=\"Open In Colab\"></a>\n",
    "</div>"
   ]
  },
  {
   "cell_type": "markdown",
   "metadata": {
    "colab_type": "text",
    "id": "Jwa6uZd9agOh"
   },
   "source": [
    "## Download\n",
    "\n",
    "Download the data from the source to your file system so you can start exploring it. The official dataset is located [here](https://www.kaggle.com/rounakbanik/the-movies-dataset/data) but we **highly** recommend using our slightly cleaned version [here](https://drive.google.com/drive/folders/1ZGp7ORu9nA6l3PyNK_H0MGTXNl4sNMsA?usp=sharing) (where we combined movies, keywords and credits into one DataFrame)."
   ]
  },
  {
   "cell_type": "markdown",
   "metadata": {
    "colab_type": "text",
    "id": "-4BAxsphbOUw"
   },
   "source": [
    "We didn't do much preprocessing (because we want you to learn how to do that) but we did make sure the data formats are easier to handle etc. as the original dataset is a bit unconventionally stored (ex. they had a string of lists of dicts as values in a Pandas Dataframe which is hopefully something you never see in the real world)."
   ]
  },
  {
   "cell_type": "markdown",
   "metadata": {
    "colab_type": "text",
    "id": "qTQqSkYibgij"
   },
   "source": [
    "## Features\n",
    "\n",
    "Some light feature exploration on the different data CSVs."
   ]
  },
  {
   "cell_type": "code",
   "execution_count": 143,
   "metadata": {
    "colab": {},
    "colab_type": "code",
    "id": "pAvaOpZqbiSd"
   },
   "outputs": [],
   "source": [
    "import warnings\n",
    "import math\n",
    "import matplotlib.pyplot as plt\n",
    "import numpy as np\n",
    "import pandas as pd\n",
    "from pylab import rcParams\n",
    "import os\n",
    "import pickle\n",
    "from sklearn.feature_extraction.text import TfidfVectorizer\n",
    "from sklearn.feature_extraction.text import CountVectorizer\n",
    "from wordcloud import wordcloud, STOPWORDS \n",
    "import glob\n",
    "import string\n",
    "import nltk\n",
    "from nltk.corpus import stopwords\n",
    "from sklearn.model_selection import train_test_split\n",
    "from sklearn.neighbors import KNeighborsClassifier\n",
    "from sklearn.metrics import accuracy_score\n",
    "from sklearn.ensemble import RandomForestRegressor\n",
    "from sklearn.metrics import mean_squared_error,mean_absolute_error,r2_score\n",
    "import seaborn as sns\n",
    "from sklearn import preprocessing\n",
    "from sklearn.ensemble import RandomForestClassifier \n",
    "from sklearn.tree import DecisionTreeClassifier\n",
    "from sklearn.preprocessing import MultiLabelBinarizer\n",
    "from sklearn.metrics import f1_score\n",
    "from sklearn.linear_model import LogisticRegression\n",
    "from sklearn.multiclass import OneVsRestClassifier\n",
    "import scipy.sparse as sp"
   ]
  },
  {
   "cell_type": "code",
   "execution_count": 24,
   "metadata": {},
   "outputs": [],
   "source": [
    "warnings.filterwarnings(\"ignore\")"
   ]
  },
  {
   "cell_type": "markdown",
   "metadata": {
    "colab_type": "text",
    "id": "OaRBr7WKbu-f"
   },
   "source": [
    "### Movies\n",
    "\n",
    "Rich metadata about each movie including it's title, description, genres, etc."
   ]
  },
  {
   "cell_type": "code",
   "execution_count": 25,
   "metadata": {
    "colab": {
     "base_uri": "https://localhost:8080/",
     "height": 717
    },
    "colab_type": "code",
    "executionInfo": {
     "elapsed": 3355,
     "status": "ok",
     "timestamp": 1591395094567,
     "user": {
      "displayName": "Made With ML",
      "photoUrl": "https://lh3.googleusercontent.com/a-/AOh14GjchsbnxqsTK4hSNOTuApkJ2_nMBzCTiOsbIrDYjw=s64",
      "userId": "01825712855394359489"
     },
     "user_tz": 420
    },
    "id": "bFdztqiJbzlG",
    "outputId": "7d556720-a45a-49b0-8b66-6d96d6f78c31"
   },
   "outputs": [
    {
     "data": {
      "text/html": [
       "<div>\n",
       "<style scoped>\n",
       "    .dataframe tbody tr th:only-of-type {\n",
       "        vertical-align: middle;\n",
       "    }\n",
       "\n",
       "    .dataframe tbody tr th {\n",
       "        vertical-align: top;\n",
       "    }\n",
       "\n",
       "    .dataframe thead th {\n",
       "        text-align: right;\n",
       "    }\n",
       "</style>\n",
       "<table border=\"1\" class=\"dataframe\">\n",
       "  <thead>\n",
       "    <tr style=\"text-align: right;\">\n",
       "      <th></th>\n",
       "      <th>id</th>\n",
       "      <th>title</th>\n",
       "      <th>tagline</th>\n",
       "      <th>description</th>\n",
       "      <th>genres</th>\n",
       "      <th>keywords</th>\n",
       "      <th>date</th>\n",
       "      <th>collection</th>\n",
       "      <th>runtime</th>\n",
       "      <th>revenue</th>\n",
       "      <th>...</th>\n",
       "      <th>director</th>\n",
       "      <th>cast</th>\n",
       "      <th>production_companies</th>\n",
       "      <th>production_countries</th>\n",
       "      <th>popularity</th>\n",
       "      <th>average_vote</th>\n",
       "      <th>num_votes</th>\n",
       "      <th>language</th>\n",
       "      <th>imdb_id</th>\n",
       "      <th>poster_url</th>\n",
       "    </tr>\n",
       "  </thead>\n",
       "  <tbody>\n",
       "    <tr>\n",
       "      <td>0</td>\n",
       "      <td>862</td>\n",
       "      <td>Toy Story</td>\n",
       "      <td>None</td>\n",
       "      <td>Led by Woody, Andy's toys live happily in his ...</td>\n",
       "      <td>animation, comedy, family</td>\n",
       "      <td>jealousy, toy, boy, friendship, friends, rival...</td>\n",
       "      <td>1995-10-30</td>\n",
       "      <td>Toy Story Collection</td>\n",
       "      <td>81</td>\n",
       "      <td>3.73554e+08</td>\n",
       "      <td>...</td>\n",
       "      <td>John Lasseter</td>\n",
       "      <td>Tom Hanks, Tim Allen, Don Rickles, Jim Varney,...</td>\n",
       "      <td>Pixar Animation Studios</td>\n",
       "      <td>United States of America</td>\n",
       "      <td>21.9469</td>\n",
       "      <td>7.7</td>\n",
       "      <td>5415</td>\n",
       "      <td>en</td>\n",
       "      <td>tt0114709</td>\n",
       "      <td>/rhIRbceoE9lR4veEXuwCC2wARtG.jpg</td>\n",
       "    </tr>\n",
       "    <tr>\n",
       "      <td>1</td>\n",
       "      <td>8844</td>\n",
       "      <td>Jumanji</td>\n",
       "      <td>Roll the dice and unleash the excitement!</td>\n",
       "      <td>When siblings Judy and Peter discover an encha...</td>\n",
       "      <td>adventure, fantasy, family</td>\n",
       "      <td>board game, disappearance, based on children's...</td>\n",
       "      <td>1995-12-15</td>\n",
       "      <td>None</td>\n",
       "      <td>104</td>\n",
       "      <td>2.62797e+08</td>\n",
       "      <td>...</td>\n",
       "      <td>Joe Johnston</td>\n",
       "      <td>Robin Williams, Jonathan Hyde, Kirsten Dunst, ...</td>\n",
       "      <td>TriStar Pictures, Teitler Film, Interscope Com...</td>\n",
       "      <td>United States of America</td>\n",
       "      <td>17.0155</td>\n",
       "      <td>6.9</td>\n",
       "      <td>2413</td>\n",
       "      <td>en</td>\n",
       "      <td>tt0113497</td>\n",
       "      <td>/vzmL6fP7aPKNKPRTFnZmiUfciyV.jpg</td>\n",
       "    </tr>\n",
       "    <tr>\n",
       "      <td>2</td>\n",
       "      <td>15602</td>\n",
       "      <td>Grumpier Old Men</td>\n",
       "      <td>Still Yelling. Still Fighting. Still Ready for...</td>\n",
       "      <td>A family wedding reignites the ancient feud be...</td>\n",
       "      <td>romance, comedy</td>\n",
       "      <td>fishing, best friend, duringcreditsstinger, ol...</td>\n",
       "      <td>1995-12-22</td>\n",
       "      <td>Grumpy Old Men Collection</td>\n",
       "      <td>101</td>\n",
       "      <td>0</td>\n",
       "      <td>...</td>\n",
       "      <td>Howard Deutch</td>\n",
       "      <td>Walter Matthau, Jack Lemmon, Ann-Margret, Soph...</td>\n",
       "      <td>Warner Bros., Lancaster Gate</td>\n",
       "      <td>United States of America</td>\n",
       "      <td>11.7129</td>\n",
       "      <td>6.5</td>\n",
       "      <td>92</td>\n",
       "      <td>en</td>\n",
       "      <td>tt0113228</td>\n",
       "      <td>/6ksm1sjKMFLbO7UY2i6G1ju9SML.jpg</td>\n",
       "    </tr>\n",
       "    <tr>\n",
       "      <td>3</td>\n",
       "      <td>31357</td>\n",
       "      <td>Waiting to Exhale</td>\n",
       "      <td>Friends are the people who let you be yourself...</td>\n",
       "      <td>Cheated on, mistreated and stepped on, the wom...</td>\n",
       "      <td>comedy, drama, romance</td>\n",
       "      <td>based on novel, interracial relationship, sing...</td>\n",
       "      <td>1995-12-22</td>\n",
       "      <td>None</td>\n",
       "      <td>127</td>\n",
       "      <td>8.14522e+07</td>\n",
       "      <td>...</td>\n",
       "      <td>Forest Whitaker</td>\n",
       "      <td>Whitney Houston, Angela Bassett, Loretta Devin...</td>\n",
       "      <td>Twentieth Century Fox Film Corporation</td>\n",
       "      <td>United States of America</td>\n",
       "      <td>3.85949</td>\n",
       "      <td>6.1</td>\n",
       "      <td>34</td>\n",
       "      <td>en</td>\n",
       "      <td>tt0114885</td>\n",
       "      <td>/16XOMpEaLWkrcPqSQqhTmeJuqQl.jpg</td>\n",
       "    </tr>\n",
       "    <tr>\n",
       "      <td>4</td>\n",
       "      <td>11862</td>\n",
       "      <td>Father of the Bride Part II</td>\n",
       "      <td>Just When His World Is Back To Normal... He's ...</td>\n",
       "      <td>Just when George Banks has recovered from his ...</td>\n",
       "      <td>comedy</td>\n",
       "      <td>baby, midlife crisis, confidence, aging, daugh...</td>\n",
       "      <td>1995-02-10</td>\n",
       "      <td>Father of the Bride Collection</td>\n",
       "      <td>106</td>\n",
       "      <td>7.65789e+07</td>\n",
       "      <td>...</td>\n",
       "      <td>Charles Shyer</td>\n",
       "      <td>Steve Martin, Diane Keaton, Martin Short, Kimb...</td>\n",
       "      <td>Sandollar Productions, Touchstone Pictures</td>\n",
       "      <td>United States of America</td>\n",
       "      <td>8.38752</td>\n",
       "      <td>5.7</td>\n",
       "      <td>173</td>\n",
       "      <td>en</td>\n",
       "      <td>tt0113041</td>\n",
       "      <td>/e64sOI48hQXyru7naBFyssKFxVd.jpg</td>\n",
       "    </tr>\n",
       "  </tbody>\n",
       "</table>\n",
       "<p>5 rows × 21 columns</p>\n",
       "</div>"
      ],
      "text/plain": [
       "      id                        title  \\\n",
       "0    862                    Toy Story   \n",
       "1   8844                      Jumanji   \n",
       "2  15602             Grumpier Old Men   \n",
       "3  31357            Waiting to Exhale   \n",
       "4  11862  Father of the Bride Part II   \n",
       "\n",
       "                                             tagline  \\\n",
       "0                                               None   \n",
       "1          Roll the dice and unleash the excitement!   \n",
       "2  Still Yelling. Still Fighting. Still Ready for...   \n",
       "3  Friends are the people who let you be yourself...   \n",
       "4  Just When His World Is Back To Normal... He's ...   \n",
       "\n",
       "                                         description  \\\n",
       "0  Led by Woody, Andy's toys live happily in his ...   \n",
       "1  When siblings Judy and Peter discover an encha...   \n",
       "2  A family wedding reignites the ancient feud be...   \n",
       "3  Cheated on, mistreated and stepped on, the wom...   \n",
       "4  Just when George Banks has recovered from his ...   \n",
       "\n",
       "                       genres  \\\n",
       "0   animation, comedy, family   \n",
       "1  adventure, fantasy, family   \n",
       "2             romance, comedy   \n",
       "3      comedy, drama, romance   \n",
       "4                      comedy   \n",
       "\n",
       "                                            keywords        date  \\\n",
       "0  jealousy, toy, boy, friendship, friends, rival...  1995-10-30   \n",
       "1  board game, disappearance, based on children's...  1995-12-15   \n",
       "2  fishing, best friend, duringcreditsstinger, ol...  1995-12-22   \n",
       "3  based on novel, interracial relationship, sing...  1995-12-22   \n",
       "4  baby, midlife crisis, confidence, aging, daugh...  1995-02-10   \n",
       "\n",
       "                       collection runtime      revenue  ...         director  \\\n",
       "0            Toy Story Collection      81  3.73554e+08  ...    John Lasseter   \n",
       "1                            None     104  2.62797e+08  ...     Joe Johnston   \n",
       "2       Grumpy Old Men Collection     101            0  ...    Howard Deutch   \n",
       "3                            None     127  8.14522e+07  ...  Forest Whitaker   \n",
       "4  Father of the Bride Collection     106  7.65789e+07  ...    Charles Shyer   \n",
       "\n",
       "                                                cast  \\\n",
       "0  Tom Hanks, Tim Allen, Don Rickles, Jim Varney,...   \n",
       "1  Robin Williams, Jonathan Hyde, Kirsten Dunst, ...   \n",
       "2  Walter Matthau, Jack Lemmon, Ann-Margret, Soph...   \n",
       "3  Whitney Houston, Angela Bassett, Loretta Devin...   \n",
       "4  Steve Martin, Diane Keaton, Martin Short, Kimb...   \n",
       "\n",
       "                                production_companies  \\\n",
       "0                            Pixar Animation Studios   \n",
       "1  TriStar Pictures, Teitler Film, Interscope Com...   \n",
       "2                       Warner Bros., Lancaster Gate   \n",
       "3             Twentieth Century Fox Film Corporation   \n",
       "4         Sandollar Productions, Touchstone Pictures   \n",
       "\n",
       "       production_countries popularity average_vote num_votes language  \\\n",
       "0  United States of America    21.9469          7.7      5415       en   \n",
       "1  United States of America    17.0155          6.9      2413       en   \n",
       "2  United States of America    11.7129          6.5        92       en   \n",
       "3  United States of America    3.85949          6.1        34       en   \n",
       "4  United States of America    8.38752          5.7       173       en   \n",
       "\n",
       "     imdb_id                        poster_url  \n",
       "0  tt0114709  /rhIRbceoE9lR4veEXuwCC2wARtG.jpg  \n",
       "1  tt0113497  /vzmL6fP7aPKNKPRTFnZmiUfciyV.jpg  \n",
       "2  tt0113228  /6ksm1sjKMFLbO7UY2i6G1ju9SML.jpg  \n",
       "3  tt0114885  /16XOMpEaLWkrcPqSQqhTmeJuqQl.jpg  \n",
       "4  tt0113041  /e64sOI48hQXyru7naBFyssKFxVd.jpg  \n",
       "\n",
       "[5 rows x 21 columns]"
      ]
     },
     "execution_count": 25,
     "metadata": {},
     "output_type": "execute_result"
    }
   ],
   "source": [
    "# Load movies\n",
    "movies = pd.read_csv('/Users/davidshi/Downloads/movie/movies.csv', header=0)\n",
    "movies = movies.replace({np.nan: None}) # replace NaN with None\n",
    "movies.head()"
   ]
  },
  {
   "cell_type": "code",
   "execution_count": 26,
   "metadata": {
    "colab": {
     "base_uri": "https://localhost:8080/",
     "height": 34
    },
    "colab_type": "code",
    "executionInfo": {
     "elapsed": 554,
     "status": "ok",
     "timestamp": 1591395095063,
     "user": {
      "displayName": "Made With ML",
      "photoUrl": "https://lh3.googleusercontent.com/a-/AOh14GjchsbnxqsTK4hSNOTuApkJ2_nMBzCTiOsbIrDYjw=s64",
      "userId": "01825712855394359489"
     },
     "user_tz": 420
    },
    "id": "zTEajfD9cWff",
    "outputId": "d5249e95-0c09-4e15-d0ae-8e22f082092f"
   },
   "outputs": [
    {
     "name": "stdout",
     "output_type": "stream",
     "text": [
      "46628 movies in total.\n"
     ]
    }
   ],
   "source": [
    "# Total\n",
    "print (f\"{len(movies)} movies in total.\")"
   ]
  },
  {
   "cell_type": "code",
   "execution_count": 27,
   "metadata": {
    "colab": {
     "base_uri": "https://localhost:8080/",
     "height": 320
    },
    "colab_type": "code",
    "executionInfo": {
     "elapsed": 1198,
     "status": "ok",
     "timestamp": 1591397329102,
     "user": {
      "displayName": "Made With ML",
      "photoUrl": "https://lh3.googleusercontent.com/a-/AOh14GjchsbnxqsTK4hSNOTuApkJ2_nMBzCTiOsbIrDYjw=s64",
      "userId": "01825712855394359489"
     },
     "user_tz": 420
    },
    "id": "7suejNB4cZ7y",
    "outputId": "b289b657-c08b-4828-8ee2-7b71b3535221"
   },
   "outputs": [
    {
     "name": "stdout",
     "output_type": "stream",
     "text": [
      "total of 20 unique genres from 93342 occurances.\n"
     ]
    },
    {
     "data": {
      "image/png": "[encoded data removed]",
      "text/plain": [
       "<Figure size 720x216 with 1 Axes>"
      ]
     },
     "metadata": {
      "needs_background": "light"
     },
     "output_type": "display_data"
    }
   ],
   "source": [
    "# Genres\n",
    "all_genres = [s.split(\", \") for s in movies[movies.genres.notnull()].genres]\n",
    "genres = [item for l in all_genres for item in l ]\n",
    "unique_genres = set(genres)\n",
    "print (f\"total of {len(unique_genres)} unique genres from {len(genres)} occurances.\")\n",
    "pd.Series(genres).value_counts().plot(kind='bar', figsize=(10, 3))\n",
    "plt.title(\"# of movies per genre\")\n",
    "plt.ylabel(\"# of movies\")\n",
    "plt.xlabel(\"genre\")\n",
    "plt.show()"
   ]
  },
  {
   "cell_type": "code",
   "execution_count": 28,
   "metadata": {
    "colab": {},
    "colab_type": "code",
    "id": "oosg8FCnfWVI"
   },
   "outputs": [],
   "source": [
    "def get_year(date):\n",
    "    year = None\n",
    "    if date:\n",
    "        year = date[:4]\n",
    "    return year"
   ]
  },
  {
   "cell_type": "code",
   "execution_count": 29,
   "metadata": {
    "colab": {},
    "colab_type": "code",
    "id": "aiO9z6NwfNdW"
   },
   "outputs": [],
   "source": [
    "# Year (example of basic feature engineering)\n",
    "movies['year'] = movies.date.apply(get_year) # same as movies.date.apply(lambda date: get_year(date))"
   ]
  },
  {
   "cell_type": "code",
   "execution_count": 30,
   "metadata": {
    "colab": {
     "base_uri": "https://localhost:8080/",
     "height": 334
    },
    "colab_type": "code",
    "executionInfo": {
     "elapsed": 2193,
     "status": "ok",
     "timestamp": 1591397245570,
     "user": {
      "displayName": "Made With ML",
      "photoUrl": "https://lh3.googleusercontent.com/a-/AOh14GjchsbnxqsTK4hSNOTuApkJ2_nMBzCTiOsbIrDYjw=s64",
      "userId": "01825712855394359489"
     },
     "user_tz": 420
    },
    "id": "pMpHNrOzcy1q",
    "outputId": "8704c92d-76cc-4ca6-f01f-50113bdd88d7"
   },
   "outputs": [
    {
     "name": "stdout",
     "output_type": "stream",
     "text": [
      "Total of 135 uinque years from 1874 to 2020\n"
     ]
    },
    {
     "data": {
      "image/png": "[encoded data removed]",
      "text/plain": [
       "<Figure size 2160x360 with 1 Axes>"
      ]
     },
     "metadata": {
      "needs_background": "light"
     },
     "output_type": "display_data"
    }
   ],
   "source": [
    "# Years\n",
    "years = movies[movies.year.notnull()].year # get rows where year is not None\n",
    "print (f\"Total of {len(set(years))} uinque years from {min(years)} to {max(years)}\")\n",
    "pd.Series(years).value_counts().sort_index().plot(kind='bar', figsize=(30, 5))\n",
    "plt.title(\"# of movies over time\")\n",
    "plt.ylabel(\"# of movies\")\n",
    "plt.xlabel(\"year\")\n",
    "plt.show()"
   ]
  },
  {
   "cell_type": "code",
   "execution_count": 31,
   "metadata": {
    "colab": {
     "base_uri": "https://localhost:8080/",
     "height": 85
    },
    "colab_type": "code",
    "executionInfo": {
     "elapsed": 1772,
     "status": "ok",
     "timestamp": 1591396203722,
     "user": {
      "displayName": "Made With ML",
      "photoUrl": "https://lh3.googleusercontent.com/a-/AOh14GjchsbnxqsTK4hSNOTuApkJ2_nMBzCTiOsbIrDYjw=s64",
      "userId": "01825712855394359489"
     },
     "user_tz": 420
    },
    "id": "x6zna8Lxlc8U",
    "outputId": "92995dca-2f0f-47c9-b59d-1951c0ae82f7"
   },
   "outputs": [
    {
     "name": "stdout",
     "output_type": "stream",
     "text": [
      "Most popular movies:\n",
      " ['Minions' 'Wonder Woman' 'Beauty and the Beast' 'Baby Driver'\n",
      " 'Big Hero 6' 'Deadpool' 'Guardians of the Galaxy Vol. 2' 'Avatar'\n",
      " 'John Wick' 'Gone Girl']\n"
     ]
    }
   ],
   "source": [
    "# Sort by popularity\n",
    "sorted_by_popularity = movies.sort_values(by='popularity', ascending=False)\n",
    "print (\"Most popular movies:\\n\", sorted_by_popularity['title'].values[:10])"
   ]
  },
  {
   "cell_type": "code",
   "execution_count": 32,
   "metadata": {
    "colab": {
     "base_uri": "https://localhost:8080/",
     "height": 299
    },
    "colab_type": "code",
    "executionInfo": {
     "elapsed": 714,
     "status": "ok",
     "timestamp": 1591402113458,
     "user": {
      "displayName": "Made With ML",
      "photoUrl": "https://lh3.googleusercontent.com/a-/AOh14GjchsbnxqsTK4hSNOTuApkJ2_nMBzCTiOsbIrDYjw=s64",
      "userId": "01825712855394359489"
     },
     "user_tz": 420
    },
    "id": "3MUTBmsE7ZzG",
    "outputId": "8f65a559-cb80-4916-d3bc-28fdda01d280"
   },
   "outputs": [
    {
     "data": {
      "text/html": [
       "<img src=\"http://image.tmdb.org/t/p/w185/rhIRbceoE9lR4veEXuwCC2wARtG.jpg\">"
      ],
      "text/plain": [
       "<IPython.core.display.HTML object>"
      ]
     },
     "metadata": {},
     "output_type": "display_data"
    }
   ],
   "source": [
    "# Get poster image\n",
    "from IPython.core.display import display, HTML\n",
    "prefix_url = 'http://image.tmdb.org/t/p/'\n",
    "poster_sizes = [\"w92\", \"w154\", \"w185\", \"w342\", \"w500\", \"w780\", \"original\"]\n",
    "full_url = prefix_url + poster_sizes[2] + movies.poster_url[0]\n",
    "display(HTML(f'<img src=\"{full_url}\">'))"
   ]
  },
  {
   "cell_type": "markdown",
   "metadata": {
    "colab_type": "text",
    "id": "SJuApUPxnZNR"
   },
   "source": [
    "### Ratings\n",
    "\n",
    "User ratings for each movie. We are using the smaller set of ratings (subset of 100,000 ratings from 700 users on 9,000 movies.) but you can download the full version (26 million ratings from 270,000 users for all 45,000 movies) from the [source](https://www.kaggle.com/rounakbanik/the-movies-dataset/data). "
   ]
  },
  {
   "cell_type": "code",
   "execution_count": 33,
   "metadata": {
    "colab": {
     "base_uri": "https://localhost:8080/",
     "height": 204
    },
    "colab_type": "code",
    "executionInfo": {
     "elapsed": 1383,
     "status": "ok",
     "timestamp": 1591396498197,
     "user": {
      "displayName": "Made With ML",
      "photoUrl": "https://lh3.googleusercontent.com/a-/AOh14GjchsbnxqsTK4hSNOTuApkJ2_nMBzCTiOsbIrDYjw=s64",
      "userId": "01825712855394359489"
     },
     "user_tz": 420
    },
    "id": "OONPWedbmvWL",
    "outputId": "d1e4de20-2c9b-4215-aa3b-4e4861cdafc0"
   },
   "outputs": [
    {
     "data": {
      "text/html": [
       "<div>\n",
       "<style scoped>\n",
       "    .dataframe tbody tr th:only-of-type {\n",
       "        vertical-align: middle;\n",
       "    }\n",
       "\n",
       "    .dataframe tbody tr th {\n",
       "        vertical-align: top;\n",
       "    }\n",
       "\n",
       "    .dataframe thead th {\n",
       "        text-align: right;\n",
       "    }\n",
       "</style>\n",
       "<table border=\"1\" class=\"dataframe\">\n",
       "  <thead>\n",
       "    <tr style=\"text-align: right;\">\n",
       "      <th></th>\n",
       "      <th>userId</th>\n",
       "      <th>movieId</th>\n",
       "      <th>rating</th>\n",
       "      <th>timestamp</th>\n",
       "    </tr>\n",
       "  </thead>\n",
       "  <tbody>\n",
       "    <tr>\n",
       "      <td>0</td>\n",
       "      <td>1</td>\n",
       "      <td>31</td>\n",
       "      <td>2.5</td>\n",
       "      <td>1260759144</td>\n",
       "    </tr>\n",
       "    <tr>\n",
       "      <td>1</td>\n",
       "      <td>1</td>\n",
       "      <td>1029</td>\n",
       "      <td>3.0</td>\n",
       "      <td>1260759179</td>\n",
       "    </tr>\n",
       "    <tr>\n",
       "      <td>2</td>\n",
       "      <td>1</td>\n",
       "      <td>1061</td>\n",
       "      <td>3.0</td>\n",
       "      <td>1260759182</td>\n",
       "    </tr>\n",
       "    <tr>\n",
       "      <td>3</td>\n",
       "      <td>1</td>\n",
       "      <td>1129</td>\n",
       "      <td>2.0</td>\n",
       "      <td>1260759185</td>\n",
       "    </tr>\n",
       "    <tr>\n",
       "      <td>4</td>\n",
       "      <td>1</td>\n",
       "      <td>1172</td>\n",
       "      <td>4.0</td>\n",
       "      <td>1260759205</td>\n",
       "    </tr>\n",
       "  </tbody>\n",
       "</table>\n",
       "</div>"
      ],
      "text/plain": [
       "   userId  movieId  rating   timestamp\n",
       "0       1       31     2.5  1260759144\n",
       "1       1     1029     3.0  1260759179\n",
       "2       1     1061     3.0  1260759182\n",
       "3       1     1129     2.0  1260759185\n",
       "4       1     1172     4.0  1260759205"
      ]
     },
     "execution_count": 33,
     "metadata": {},
     "output_type": "execute_result"
    }
   ],
   "source": [
    "# Load ratings\n",
    "ratings = pd.read_csv(\"/Users/davidshi/Downloads/movie/ratings_small.csv\", header=0)\n",
    "ratings.head()"
   ]
  },
  {
   "cell_type": "markdown",
   "metadata": {
    "colab_type": "text",
    "id": "DuKBFhYM1705"
   },
   "source": [
    "The first row in the dataframe above can be read as the following: userId `1` voted `2.5` on movieId `31` at timestamp `1260759144`."
   ]
  },
  {
   "cell_type": "code",
   "execution_count": 34,
   "metadata": {
    "colab": {
     "base_uri": "https://localhost:8080/",
     "height": 346
    },
    "colab_type": "code",
    "executionInfo": {
     "elapsed": 954,
     "status": "ok",
     "timestamp": 1591397447844,
     "user": {
      "displayName": "Made With ML",
      "photoUrl": "https://lh3.googleusercontent.com/a-/AOh14GjchsbnxqsTK4hSNOTuApkJ2_nMBzCTiOsbIrDYjw=s64",
      "userId": "01825712855394359489"
     },
     "user_tz": 420
    },
    "id": "I2WaidX8n3VS",
    "outputId": "7fa3e4d9-c56f-4dd6-ad60-31d867a3a5a0"
   },
   "outputs": [
    {
     "name": "stdout",
     "output_type": "stream",
     "text": [
      "count    100004.000000\n",
      "mean          3.543608\n",
      "std           1.058064\n",
      "min           0.500000\n",
      "25%           3.000000\n",
      "50%           4.000000\n",
      "75%           4.000000\n",
      "max           5.000000\n",
      "Name: rating, dtype: float64\n"
     ]
    },
    {
     "data": {
      "image/png": "[encoded data removed]",
      "text/plain": [
       "<Figure size 360x144 with 1 Axes>"
      ]
     },
     "metadata": {
      "needs_background": "light"
     },
     "output_type": "display_data"
    }
   ],
   "source": [
    "# Distribution of ratings\n",
    "print (ratings['rating'].describe())\n",
    "pd.Series(ratings['rating']).value_counts().sort_index().plot(kind='bar', figsize=(5, 2))\n",
    "plt.title(\"Distribution of ratings\")\n",
    "plt.ylabel(\"# of movies\")\n",
    "plt.xlabel(\"rating\")\n",
    "plt.show()"
   ]
  },
  {
   "cell_type": "markdown",
   "metadata": {
    "colab_type": "text",
    "id": "sJSQZp3Z0ZF5"
   },
   "source": [
    "## Project ideas\n",
    "\n",
    "Details and resources for different project directions using this dataset. When you're developing your models, start with simple approaches first and then slowly add complexity. You should clearly document (README, articles and [Weights and Biases reports](https://www.youtube.com/watch?v=o2dOSIDDr1w)) and save your progression from simple to more complex models so your audience can see the improvements. The ability to write well and document your thinking process is a core skill to have in research and industry."
   ]
  },
  {
   "cell_type": "markdown",
   "metadata": {
    "colab_type": "text",
    "id": "3rRBPthW0cLb"
   },
   "source": [
    "- **Moderate Projects** \n",
    "\n",
    "    - **[Exploratory analysis](https://madewithml.com/projects/160/programming-probabilistically/)**: relationships between staff/revenue, popularity/genre, etc. These could be simple statistical tests to validate some hypothesis (ex. action movies get better ratings than horror movies). This project can also involve a lot of exploratory analysis. \n",
    "        - People should not dismiss this project because this kind of statistical analysis is **very prevalent** in the industry. Not everything is about using deep learning to predict classes and it's kind of analysis that many marketing, advertising, science, etc. industries utilize every day to make their decisions.\n",
    "\n",
    "    - **[Text classification](https://madewithml.com/topics/text-classification/)**: multi-class classification of movie genres using title, ratings, etc. You can also be very creative here and try to get more metadata like movie descriptions from online using the ids provided in the dataset.\n",
    "        - When you're developing your models, start with simple approaches first and then slowly add complexity. For example, start with analyzing the text as tokens and using [logistic regression](https://madewithml.com/topics/logistic-regression/). Then explore [embeddings](https://madewithml.com/topics/embeddings/) with [CNNs](https://madewithml.com/topics/convolutional-neural-networks/) and [RNNs](https://madewithml.com/topics/recurrent-neural-networks/) and eventually attempt to use contextualized embeddings, pretrained [Transformers](https://madewithml.com/topics/transformers/) from [HuggingFace](https://madewithml.com/search-results/?tags=huggingface), etc.\n",
    "\n",
    "    - **Miscellaneous**: predict numerical statistics like revenue, popularity, etc. given title, genre, production companies, etc. Here you can start with simple models like [linear regression]() and then try out ensemble methods like [random forests]() and evetually use neural networks. If you have time, you can even explore more recent methods that offer the performance of large networks with the interpretability of simples models - for example: [TabNet](https://madewithml.com/projects/1001/tabnet-attentive-interpretable-tabular-learning/) or [Neural Backed Decision Trees](https://madewithml.com/projects/659/neural-backed-decision-trees/)."
   ]
  },
  {
   "cell_type": "markdown",
   "metadata": {
    "colab_type": "text",
    "id": "IsxRjRtt1SLJ"
   },
   "source": [
    "- **Challenging projects**\n",
    "    - [**Recommendation systems**](https://madewithml.com/topics/recommendation-systems/): recommend a movie based on liked movies. There are a lot of different approaches here but the most common technique will be content based. Ask the user to select movies that they like (from the dataset) and then recommend similar movies (based on genres, ratings, cast, crew, etc.) that they'd enjoy. \n",
    "\n",
    "    - [**Text generation**](https://madewithml.com/topics/text-generation/): generate the `tagline` or `overview` from movie title, genre, poster image, etc. or vice versa. You should definitely leverage pretrained language models here and then you can fine-tune using text from this dataset. \n",
    "\n",
    "    - [**Named entity recognition**](https://madewithml.com/topics/named-entity-recognition/): identify entities in movie titles and descriptions. This dataset doesn't come with any labeled entities however you can use a trained NER model to extract relevant entites that model can handle. This isn't much of an application so if you do choose this project, we suggest extending this to things like few-shot NER using embeddings, etc.\n",
    "\n",
    "    - [**Few-shot learning**](https://madewithml.com/topics/few-shot-learning/): identify genres using one or just a few samples, also check out [self-supervision](https://madewithml.com/search-results/?tags=self-supervised-learning&tags=natural-language-processing) techniques in NLP where you can create meaningful tasks with the data that extract relevant signal from the latent space which can then be used for classification with very few samples. "
   ]
  },
  {
   "cell_type": "markdown",
   "metadata": {
    "colab_type": "text",
    "id": "IgCBLj5S1jhZ"
   },
   "source": [
    "---\n",
    "Learn, explore and build at <a href=\"https://madewithml.com/\">Made With ML</a>.\n",
    "\n",
    "<div align=\"left\">\n",
    "<a class=\"ai-header-badge\" target=\"_blank\" href=\"https://github.com/madewithml/basics\"><img src=\"https://img.shields.io/github/stars/madewithml/basics.svg?style=social&label=Star\"></a>&nbsp;\n",
    "<a class=\"ai-header-badge\" target=\"_blank\" href=\"https://www.linkedin.com/company/madewithml\"><img src=\"https://img.shields.io/badge/style--5eba00.svg?label=LinkedIn&logo=linkedin&style=social\"></a>&nbsp;\n",
    "<a class=\"ai-header-badge\" target=\"_blank\" href=\"https://www.youtube.com/channel/UCaVCnFQXS7PYMoYZu3KdC0Q?sub_confirmation=1\"><img src=\"https://img.shields.io/badge/style--5eba00.svg?label=YouTube&logo=youtube&style=social\"></a>&nbsp;<a class=\"ai-header-badge\" target=\"_blank\" href=\"https://twitter.com/madewithml\"><img src=\"https://img.shields.io/twitter/follow/madewithml.svg?label=Follow&style=social\"></a>\n",
    "</div>\n",
    "             "
   ]
  },
  {
   "cell_type": "code",
   "execution_count": 35,
   "metadata": {},
   "outputs": [
    {
     "data": {
      "text/plain": [
       "id                          0\n",
       "title                       4\n",
       "tagline                 25845\n",
       "description               995\n",
       "genres                   2524\n",
       "keywords                14889\n",
       "date                       88\n",
       "collection              42054\n",
       "runtime                   268\n",
       "revenue                     4\n",
       "budget                      0\n",
       "director                  917\n",
       "cast                     2491\n",
       "production_companies    12282\n",
       "production_countries     6496\n",
       "popularity                  4\n",
       "average_vote                4\n",
       "num_votes                   4\n",
       "language                   11\n",
       "imdb_id                    17\n",
       "poster_url                399\n",
       "year                       88\n",
       "dtype: int64"
      ]
     },
     "execution_count": 35,
     "metadata": {},
     "output_type": "execute_result"
    }
   ],
   "source": [
    "movies.isnull().sum()"
   ]
  },
  {
   "cell_type": "code",
   "execution_count": 36,
   "metadata": {},
   "outputs": [
    {
     "name": "stdout",
     "output_type": "stream",
     "text": [
      "<class 'pandas.core.frame.DataFrame'>\n",
      "RangeIndex: 46628 entries, 0 to 46627\n",
      "Data columns (total 22 columns):\n",
      "id                      46628 non-null int64\n",
      "title                   46624 non-null object\n",
      "tagline                 20783 non-null object\n",
      "description             45633 non-null object\n",
      "genres                  44104 non-null object\n",
      "keywords                31739 non-null object\n",
      "date                    46540 non-null object\n",
      "collection              4574 non-null object\n",
      "runtime                 46360 non-null object\n",
      "revenue                 46624 non-null object\n",
      "budget                  46628 non-null int64\n",
      "director                45711 non-null object\n",
      "cast                    44137 non-null object\n",
      "production_companies    34346 non-null object\n",
      "production_countries    40132 non-null object\n",
      "popularity              46624 non-null object\n",
      "average_vote            46624 non-null object\n",
      "num_votes               46624 non-null object\n",
      "language                46617 non-null object\n",
      "imdb_id                 46611 non-null object\n",
      "poster_url              46229 non-null object\n",
      "year                    46540 non-null object\n",
      "dtypes: int64(2), object(20)\n",
      "memory usage: 7.8+ MB\n"
     ]
    }
   ],
   "source": [
    "movies.info()"
   ]
  },
  {
   "cell_type": "markdown",
   "metadata": {},
   "source": [
    "making a dataframe copy of movies so we can manipulate without crying about mistakes"
   ]
  },
  {
   "cell_type": "code",
   "execution_count": 37,
   "metadata": {},
   "outputs": [],
   "source": [
    "df=movies"
   ]
  },
  {
   "cell_type": "markdown",
   "metadata": {},
   "source": [
    "**Revenue vs Ratings** \n",
    "\n",
    "Comparing the relationship between revenue generated and ratings. Although data already provides average rating, this can be quite misleading. When comparing two average ratings the consideration of number of votes is very important. Movie 1 can have a rating of 9.0 with only 3 votes compared to Movie 2 having a rating of 8.0 with 50 votes. In this situation Movie 1's rating is very biased due to the low amount of voters. To tackle this problem IMBD have a weight rating formula.\n",
    "\n",
    "Weighted Rating = (vR)/(v+m) + (mC)/(v+m)\n",
    "\n",
    "m = minimum votes to be listed in chart ( we will assume movies with 85 percentile number of voters to be relevant)  \n",
    "C = mean of average rating for all movies  \n",
    "R = average rating for specific movie  \n",
    "v = number of votes for specific movie\n"
   ]
  },
  {
   "cell_type": "code",
   "execution_count": 38,
   "metadata": {},
   "outputs": [],
   "source": [
    "m=df['num_votes'].quantile(0.85)"
   ]
  },
  {
   "cell_type": "code",
   "execution_count": 39,
   "metadata": {},
   "outputs": [],
   "source": [
    "C=df['average_vote'].mean()"
   ]
  },
  {
   "cell_type": "code",
   "execution_count": 40,
   "metadata": {},
   "outputs": [],
   "source": [
    "df2=df[df['num_votes']>m]"
   ]
  },
  {
   "cell_type": "code",
   "execution_count": 41,
   "metadata": {},
   "outputs": [],
   "source": [
    "def weightedrating(j,m=m,C=C):\n",
    "    v=j['num_votes']\n",
    "    R=j['average_vote']\n",
    "    \n",
    "    return (v*R)/(v+m) + (m*C)/(v+m)"
   ]
  },
  {
   "cell_type": "code",
   "execution_count": 42,
   "metadata": {},
   "outputs": [],
   "source": [
    "df2['weighted_rating']=df2.apply(weightedrating,axis=1)"
   ]
  },
  {
   "cell_type": "code",
   "execution_count": 43,
   "metadata": {},
   "outputs": [
    {
     "data": {
      "text/plain": [
       "<matplotlib.collections.PathCollection at 0x7ffa0ae4e850>"
      ]
     },
     "execution_count": 43,
     "metadata": {},
     "output_type": "execute_result"
    },
    {
     "data": {
      "image/png": "[encoded data removed]",
      "text/plain": [
       "<Figure size 1080x1080 with 1 Axes>"
      ]
     },
     "metadata": {
      "needs_background": "light"
     },
     "output_type": "display_data"
    }
   ],
   "source": [
    "plt.figure(figsize=(15,15))\n",
    "plt.xlabel('Weighted Rating', fontsize=20)\n",
    "plt.ylabel('Revenue in hundred millions',fontsize=20)\n",
    "plt.yticks(np.arange(0, 3000000000, 100000000))\n",
    "plt.title('Revenue vs Rating', fontsize=20)\n",
    "plt.scatter(x='weighted_rating',y='revenue',data=df2)"
   ]
  },
  {
   "cell_type": "markdown",
   "metadata": {},
   "source": [
    "From this graph we can interpret high rating movies have a chance of high revenue compared to low rating movies. However most movies are below 50 million in revenue regardless of rating"
   ]
  },
  {
   "cell_type": "markdown",
   "metadata": {},
   "source": [
    "**Profit distribution**  \n",
    "\n",
    "I will plot the profit distribution plot to analyze disparity of profit. Profit is estimated by revenue - budget"
   ]
  },
  {
   "cell_type": "code",
   "execution_count": 44,
   "metadata": {},
   "outputs": [],
   "source": [
    "prof = pd.Series(df2['revenue']-df2['budget'])"
   ]
  },
  {
   "cell_type": "code",
   "execution_count": 45,
   "metadata": {},
   "outputs": [
    {
     "data": {
      "image/png": "[encoded data removed]",
      "text/plain": [
       "<Figure size 1440x864 with 1 Axes>"
      ]
     },
     "metadata": {
      "needs_background": "light"
     },
     "output_type": "display_data"
    }
   ],
   "source": [
    "plt.figure(figsize=(20,12))\n",
    "plt.title('Profit Distribution', fontsize=20)\n",
    "sns.distplot(prof);"
   ]
  },
  {
   "cell_type": "markdown",
   "metadata": {},
   "source": [
    "distribution plot is extremely right skewed"
   ]
  },
  {
   "cell_type": "markdown",
   "metadata": {},
   "source": [
    "**Production Country Analysis**  \n",
    "\n",
    "The product_countries column is hard to work with in the original data. Currently if the movie is produced in multiple countries it is a string of text which is hard to interpret. Example current value would be 'turkey, china'. I want to split this string into a list of seperate strings of country.\n",
    "\n",
    "'turkey, china' ---> ['turkey' , 'china']\n",
    "\n",
    "This process would make the column more analyzable"
   ]
  },
  {
   "cell_type": "code",
   "execution_count": 46,
   "metadata": {},
   "outputs": [],
   "source": [
    "df['production_countries']=df['production_countries'].astype(str)"
   ]
  },
  {
   "cell_type": "code",
   "execution_count": 47,
   "metadata": {},
   "outputs": [],
   "source": [
    "x=0\n",
    "pdlist=[]\n",
    "for i in df['production_countries']:\n",
    "    df.production_countries[x]=df.production_countries[x].split(', ')\n",
    "    pdlist=pdlist+df.production_countries[x]\n",
    "    x=x+1"
   ]
  },
  {
   "cell_type": "code",
   "execution_count": 48,
   "metadata": {},
   "outputs": [],
   "source": [
    "temp=pd.Series(pdlist).value_counts()"
   ]
  },
  {
   "cell_type": "code",
   "execution_count": 49,
   "metadata": {},
   "outputs": [
    {
     "data": {
      "text/plain": [
       "United States of America    21484\n",
       "None                         6496\n",
       "United Kingdom               4186\n",
       "France                       4079\n",
       "Germany                      2324\n",
       "Italy                        2240\n",
       "Canada                       1795\n",
       "Japan                        1726\n",
       "Spain                         982\n",
       "Russia                        924\n",
       "India                         868\n",
       "Sweden                        604\n",
       "Hong Kong                     600\n",
       "Australia                     579\n",
       "South Korea                   532\n",
       "Belgium                       505\n",
       "Finland                       415\n",
       "Denmark                       406\n",
       "China                         390\n",
       "Netherlands                   390\n",
       "Mexico                        343\n",
       "Poland                        341\n",
       "Brazil                        305\n",
       "Argentina                     266\n",
       "Switzerland                   258\n",
       "Ireland                       225\n",
       "Norway                        216\n",
       "Austria                       214\n",
       "Czech Republic                210\n",
       "Hungary                       178\n",
       "dtype: int64"
      ]
     },
     "execution_count": 49,
     "metadata": {},
     "output_type": "execute_result"
    }
   ],
   "source": [
    "temp.head(30)"
   ]
  },
  {
   "cell_type": "markdown",
   "metadata": {},
   "source": [
    "From this quick snippet of the list of top movie production countries, United of State of America dominates heavily."
   ]
  },
  {
   "cell_type": "markdown",
   "metadata": {},
   "source": [
    "**Genre Ratings**\n",
    "\n",
    "I want to find the average rating by genre. I add the 'average_vote' column according to genre and divide by total amount of movies in that genre. Movies with multiple genre will be counted multiple times in those specific genres. The biggest trick here is to loop through the dataframe and the list within the 'genre' column to capture the mulitple genres a movie falls within."
   ]
  },
  {
   "cell_type": "code",
   "execution_count": 50,
   "metadata": {},
   "outputs": [],
   "source": [
    "df=df[~df['genres'].isnull()]\n",
    "df=df[~df['average_vote'].isnull()]\n",
    "df['genres']=df['genres'].str.split(', ')"
   ]
  },
  {
   "cell_type": "code",
   "execution_count": 51,
   "metadata": {},
   "outputs": [],
   "source": [
    "genre_avgvote = pd.DataFrame(columns=['genre','avgvote'])\n",
    "for x in unique_genres:\n",
    "    count = 0\n",
    "    totalrating = 0\n",
    "    i = 0\n",
    "    while (i<len(df)):\n",
    "        j=0\n",
    "        if not df.iloc[i,4]:\n",
    "            i=i+1\n",
    "            \n",
    "        else:\n",
    "            while (j<len(df.iloc[i,4])):\n",
    "               if(df.iloc[i,4][j]==x):\n",
    "                    count=count+1\n",
    "                    totalrating = totalrating + df.iloc[i,16]\n",
    "               j=j+1\n",
    "        i=i+1\n",
    "            \n",
    "        \n",
    "    genre_avgvote=genre_avgvote.append({'genre':x,'avgvote':(totalrating/count)},ignore_index=True)\n",
    "    "
   ]
  },
  {
   "cell_type": "code",
   "execution_count": 52,
   "metadata": {},
   "outputs": [
    {
     "data": {
      "text/html": [
       "<div>\n",
       "<style scoped>\n",
       "    .dataframe tbody tr th:only-of-type {\n",
       "        vertical-align: middle;\n",
       "    }\n",
       "\n",
       "    .dataframe tbody tr th {\n",
       "        vertical-align: top;\n",
       "    }\n",
       "\n",
       "    .dataframe thead th {\n",
       "        text-align: right;\n",
       "    }\n",
       "</style>\n",
       "<table border=\"1\" class=\"dataframe\">\n",
       "  <thead>\n",
       "    <tr style=\"text-align: right;\">\n",
       "      <th></th>\n",
       "      <th>genre</th>\n",
       "      <th>avgvote</th>\n",
       "    </tr>\n",
       "  </thead>\n",
       "  <tbody>\n",
       "    <tr>\n",
       "      <td>0</td>\n",
       "      <td>mystery</td>\n",
       "      <td>5.824085</td>\n",
       "    </tr>\n",
       "    <tr>\n",
       "      <td>1</td>\n",
       "      <td>western</td>\n",
       "      <td>5.134278</td>\n",
       "    </tr>\n",
       "    <tr>\n",
       "      <td>2</td>\n",
       "      <td>fantasy</td>\n",
       "      <td>5.762348</td>\n",
       "    </tr>\n",
       "    <tr>\n",
       "      <td>3</td>\n",
       "      <td>family</td>\n",
       "      <td>5.746556</td>\n",
       "    </tr>\n",
       "    <tr>\n",
       "      <td>4</td>\n",
       "      <td>war</td>\n",
       "      <td>6.036573</td>\n",
       "    </tr>\n",
       "    <tr>\n",
       "      <td>5</td>\n",
       "      <td>science fiction</td>\n",
       "      <td>5.336978</td>\n",
       "    </tr>\n",
       "    <tr>\n",
       "      <td>6</td>\n",
       "      <td>comedy</td>\n",
       "      <td>5.708577</td>\n",
       "    </tr>\n",
       "    <tr>\n",
       "      <td>7</td>\n",
       "      <td>foreign</td>\n",
       "      <td>5.750387</td>\n",
       "    </tr>\n",
       "    <tr>\n",
       "      <td>8</td>\n",
       "      <td>animation</td>\n",
       "      <td>6.271407</td>\n",
       "    </tr>\n",
       "    <tr>\n",
       "      <td>9</td>\n",
       "      <td>horror</td>\n",
       "      <td>5.225084</td>\n",
       "    </tr>\n",
       "    <tr>\n",
       "      <td>10</td>\n",
       "      <td>action</td>\n",
       "      <td>5.579768</td>\n",
       "    </tr>\n",
       "    <tr>\n",
       "      <td>11</td>\n",
       "      <td>history</td>\n",
       "      <td>6.157814</td>\n",
       "    </tr>\n",
       "    <tr>\n",
       "      <td>12</td>\n",
       "      <td>adventure</td>\n",
       "      <td>5.672958</td>\n",
       "    </tr>\n",
       "    <tr>\n",
       "      <td>13</td>\n",
       "      <td>music</td>\n",
       "      <td>5.878528</td>\n",
       "    </tr>\n",
       "    <tr>\n",
       "      <td>14</td>\n",
       "      <td>thriller</td>\n",
       "      <td>5.616233</td>\n",
       "    </tr>\n",
       "    <tr>\n",
       "      <td>15</td>\n",
       "      <td>drama</td>\n",
       "      <td>5.892609</td>\n",
       "    </tr>\n",
       "    <tr>\n",
       "      <td>16</td>\n",
       "      <td>tv movie</td>\n",
       "      <td>5.237042</td>\n",
       "    </tr>\n",
       "    <tr>\n",
       "      <td>17</td>\n",
       "      <td>romance</td>\n",
       "      <td>5.791492</td>\n",
       "    </tr>\n",
       "    <tr>\n",
       "      <td>18</td>\n",
       "      <td>documentary</td>\n",
       "      <td>5.811136</td>\n",
       "    </tr>\n",
       "    <tr>\n",
       "      <td>19</td>\n",
       "      <td>crime</td>\n",
       "      <td>5.875427</td>\n",
       "    </tr>\n",
       "  </tbody>\n",
       "</table>\n",
       "</div>"
      ],
      "text/plain": [
       "              genre   avgvote\n",
       "0           mystery  5.824085\n",
       "1           western  5.134278\n",
       "2           fantasy  5.762348\n",
       "3            family  5.746556\n",
       "4               war  6.036573\n",
       "5   science fiction  5.336978\n",
       "6            comedy  5.708577\n",
       "7           foreign  5.750387\n",
       "8         animation  6.271407\n",
       "9            horror  5.225084\n",
       "10           action  5.579768\n",
       "11          history  6.157814\n",
       "12        adventure  5.672958\n",
       "13            music  5.878528\n",
       "14         thriller  5.616233\n",
       "15            drama  5.892609\n",
       "16         tv movie  5.237042\n",
       "17          romance  5.791492\n",
       "18      documentary  5.811136\n",
       "19            crime  5.875427"
      ]
     },
     "execution_count": 52,
     "metadata": {},
     "output_type": "execute_result"
    },
    {
     "data": {
      "image/png": "[encoded data removed]",
      "text/plain": [
       "<Figure size 1440x432 with 1 Axes>"
      ]
     },
     "metadata": {
      "needs_background": "light"
     },
     "output_type": "display_data"
    }
   ],
   "source": [
    "plt.figure(figsize=(20,6))\n",
    "plt.ylim(5,6.5)\n",
    "plt.xticks(rotation=45)\n",
    "plt.bar('genre','avgvote',data=genre_avgvote)\n",
    "plt.title('Genre Average Ratings', fontsize=20)\n",
    "genre_avgvote"
   ]
  },
  {
   "cell_type": "markdown",
   "metadata": {},
   "source": [
    "From this breakdown we can take away  \n",
    "\n",
    "science fiction / TV movie / western / horror have have the lowest average ratings  \n",
    "war / history / animation have high average ratings"
   ]
  },
  {
   "cell_type": "markdown",
   "metadata": {},
   "source": [
    "**Predictive Analysis on Rating**  \n",
    "\n",
    "I will try to use TF-IDF to create sparse matrix on text features to predict rating. I wonder if description of movies can predict rating. Most likely we will not find any strong results, however I will try it for learning purposes. Randomforest regression is my choice of regression since I believe it is the most complex one which suites this situation."
   ]
  },
  {
   "cell_type": "code",
   "execution_count": 53,
   "metadata": {},
   "outputs": [],
   "source": [
    "df3=movies"
   ]
  },
  {
   "cell_type": "code",
   "execution_count": 54,
   "metadata": {},
   "outputs": [],
   "source": [
    "df3=df3[~df3['description'].isnull()]\n",
    "df3=df3[~df3['average_vote'].isnull()]"
   ]
  },
  {
   "cell_type": "code",
   "execution_count": 55,
   "metadata": {},
   "outputs": [],
   "source": [
    "def cleanstring(x):\n",
    "    \n",
    "    x = x.translate(str.maketrans('', '', string.punctuation))\n",
    "    x = [c for c in x.split() if c.lower() not in stopwords.words('english')]\n",
    "    return \" \".join(x)"
   ]
  },
  {
   "cell_type": "code",
   "execution_count": 56,
   "metadata": {},
   "outputs": [],
   "source": [
    "df3['description']=df3['description'].apply(cleanstring)"
   ]
  },
  {
   "cell_type": "code",
   "execution_count": 57,
   "metadata": {},
   "outputs": [],
   "source": [
    "X=TfidfVectorizer(\"english\").fit_transform(df3['description'])"
   ]
  },
  {
   "cell_type": "code",
   "execution_count": 58,
   "metadata": {},
   "outputs": [],
   "source": [
    "y=df3['average_vote']"
   ]
  },
  {
   "cell_type": "code",
   "execution_count": 59,
   "metadata": {},
   "outputs": [],
   "source": [
    "df3['average_vote']=pd.to_numeric(df3['average_vote'])"
   ]
  },
  {
   "cell_type": "code",
   "execution_count": 60,
   "metadata": {},
   "outputs": [],
   "source": [
    " X_train,X_test,y_train,y_test = train_test_split(X,y,test_size= 0.3,random_state=0)"
   ]
  },
  {
   "cell_type": "code",
   "execution_count": 61,
   "metadata": {},
   "outputs": [],
   "source": [
    "rf=RandomForestRegressor()\n",
    "rf.fit(X_train,y_train)\n",
    "rf_ypred=rf.predict(X_test)"
   ]
  },
  {
   "cell_type": "code",
   "execution_count": 62,
   "metadata": {},
   "outputs": [],
   "source": [
    "def measurements(ytest,ypred):\n",
    "    x=rf_mse = mean_squared_error(ytest, ypred)\n",
    "    y=rf_mae = mean_absolute_error(ytest, ypred)\n",
    "    z=rf_r2=r2_score(ytest,ypred)\n",
    "    print('MSE:' + str(x))\n",
    "    print('MAE:' + str(y))\n",
    "    print('r2:' + str(z))"
   ]
  },
  {
   "cell_type": "code",
   "execution_count": 63,
   "metadata": {},
   "outputs": [
    {
     "name": "stdout",
     "output_type": "stream",
     "text": [
      "MSE:3.905757638119015\n",
      "MAE:1.3536621165248657\n",
      "r2:-0.06652987878643035\n",
      "None\n"
     ]
    }
   ],
   "source": [
    "print(measurements(y_test,rf_ypred))"
   ]
  },
  {
   "cell_type": "markdown",
   "metadata": {},
   "source": [
    "well just as I predicted our rating prediction using randomforest is absolutely useless. We got a negative R-squared which means the average of y variable is a better prediction then the regression."
   ]
  },
  {
   "cell_type": "markdown",
   "metadata": {},
   "source": [
    "**Recommendation by Genre**  \n",
    "\n",
    "Function to list top 20 movies in filtered by Genre  \n",
    "\n",
    "- order by imbd weighted rating  \n",
    "- order by popularity\n",
    "- order by average vote\n"
   ]
  },
  {
   "cell_type": "code",
   "execution_count": 64,
   "metadata": {},
   "outputs": [],
   "source": [
    "df4=movies\n",
    "df4=df4[~df4['genres'].isnull()]\n",
    "df4['genres']=df4['genres'].str.split(', ')"
   ]
  },
  {
   "cell_type": "code",
   "execution_count": 65,
   "metadata": {},
   "outputs": [
    {
     "data": {
      "text/html": [
       "<div>\n",
       "<style scoped>\n",
       "    .dataframe tbody tr th:only-of-type {\n",
       "        vertical-align: middle;\n",
       "    }\n",
       "\n",
       "    .dataframe tbody tr th {\n",
       "        vertical-align: top;\n",
       "    }\n",
       "\n",
       "    .dataframe thead th {\n",
       "        text-align: right;\n",
       "    }\n",
       "</style>\n",
       "<table border=\"1\" class=\"dataframe\">\n",
       "  <thead>\n",
       "    <tr style=\"text-align: right;\">\n",
       "      <th></th>\n",
       "      <th>title</th>\n",
       "      <th>tagline</th>\n",
       "      <th>description</th>\n",
       "      <th>genres</th>\n",
       "      <th>keywords</th>\n",
       "      <th>date</th>\n",
       "      <th>collection</th>\n",
       "      <th>runtime</th>\n",
       "      <th>revenue</th>\n",
       "      <th>budget</th>\n",
       "      <th>...</th>\n",
       "      <th>cast</th>\n",
       "      <th>production_companies</th>\n",
       "      <th>production_countries</th>\n",
       "      <th>popularity</th>\n",
       "      <th>average_vote</th>\n",
       "      <th>num_votes</th>\n",
       "      <th>language</th>\n",
       "      <th>imdb_id</th>\n",
       "      <th>poster_url</th>\n",
       "      <th>year</th>\n",
       "    </tr>\n",
       "    <tr>\n",
       "      <th>id</th>\n",
       "      <th></th>\n",
       "      <th></th>\n",
       "      <th></th>\n",
       "      <th></th>\n",
       "      <th></th>\n",
       "      <th></th>\n",
       "      <th></th>\n",
       "      <th></th>\n",
       "      <th></th>\n",
       "      <th></th>\n",
       "      <th></th>\n",
       "      <th></th>\n",
       "      <th></th>\n",
       "      <th></th>\n",
       "      <th></th>\n",
       "      <th></th>\n",
       "      <th></th>\n",
       "      <th></th>\n",
       "      <th></th>\n",
       "      <th></th>\n",
       "      <th></th>\n",
       "    </tr>\n",
       "  </thead>\n",
       "  <tbody>\n",
       "    <tr>\n",
       "      <td>862</td>\n",
       "      <td>Toy Story</td>\n",
       "      <td>None</td>\n",
       "      <td>Led by Woody, Andy's toys live happily in his ...</td>\n",
       "      <td>[animation, comedy, family]</td>\n",
       "      <td>jealousy, toy, boy, friendship, friends, rival...</td>\n",
       "      <td>1995-10-30</td>\n",
       "      <td>Toy Story Collection</td>\n",
       "      <td>81</td>\n",
       "      <td>3.73554e+08</td>\n",
       "      <td>30000000</td>\n",
       "      <td>...</td>\n",
       "      <td>Tom Hanks, Tim Allen, Don Rickles, Jim Varney,...</td>\n",
       "      <td>Pixar Animation Studios</td>\n",
       "      <td>[United States of America]</td>\n",
       "      <td>21.9469</td>\n",
       "      <td>7.7</td>\n",
       "      <td>5415</td>\n",
       "      <td>en</td>\n",
       "      <td>tt0114709</td>\n",
       "      <td>/rhIRbceoE9lR4veEXuwCC2wARtG.jpg</td>\n",
       "      <td>1995</td>\n",
       "    </tr>\n",
       "    <tr>\n",
       "      <td>8844</td>\n",
       "      <td>Jumanji</td>\n",
       "      <td>Roll the dice and unleash the excitement!</td>\n",
       "      <td>When siblings Judy and Peter discover an encha...</td>\n",
       "      <td>[adventure, fantasy, family]</td>\n",
       "      <td>board game, disappearance, based on children's...</td>\n",
       "      <td>1995-12-15</td>\n",
       "      <td>None</td>\n",
       "      <td>104</td>\n",
       "      <td>2.62797e+08</td>\n",
       "      <td>65000000</td>\n",
       "      <td>...</td>\n",
       "      <td>Robin Williams, Jonathan Hyde, Kirsten Dunst, ...</td>\n",
       "      <td>TriStar Pictures, Teitler Film, Interscope Com...</td>\n",
       "      <td>[United States of America]</td>\n",
       "      <td>17.0155</td>\n",
       "      <td>6.9</td>\n",
       "      <td>2413</td>\n",
       "      <td>en</td>\n",
       "      <td>tt0113497</td>\n",
       "      <td>/vzmL6fP7aPKNKPRTFnZmiUfciyV.jpg</td>\n",
       "      <td>1995</td>\n",
       "    </tr>\n",
       "    <tr>\n",
       "      <td>15602</td>\n",
       "      <td>Grumpier Old Men</td>\n",
       "      <td>Still Yelling. Still Fighting. Still Ready for...</td>\n",
       "      <td>A family wedding reignites the ancient feud be...</td>\n",
       "      <td>[romance, comedy]</td>\n",
       "      <td>fishing, best friend, duringcreditsstinger, ol...</td>\n",
       "      <td>1995-12-22</td>\n",
       "      <td>Grumpy Old Men Collection</td>\n",
       "      <td>101</td>\n",
       "      <td>0</td>\n",
       "      <td>0</td>\n",
       "      <td>...</td>\n",
       "      <td>Walter Matthau, Jack Lemmon, Ann-Margret, Soph...</td>\n",
       "      <td>Warner Bros., Lancaster Gate</td>\n",
       "      <td>[United States of America]</td>\n",
       "      <td>11.7129</td>\n",
       "      <td>6.5</td>\n",
       "      <td>92</td>\n",
       "      <td>en</td>\n",
       "      <td>tt0113228</td>\n",
       "      <td>/6ksm1sjKMFLbO7UY2i6G1ju9SML.jpg</td>\n",
       "      <td>1995</td>\n",
       "    </tr>\n",
       "    <tr>\n",
       "      <td>31357</td>\n",
       "      <td>Waiting to Exhale</td>\n",
       "      <td>Friends are the people who let you be yourself...</td>\n",
       "      <td>Cheated on, mistreated and stepped on, the wom...</td>\n",
       "      <td>[comedy, drama, romance]</td>\n",
       "      <td>based on novel, interracial relationship, sing...</td>\n",
       "      <td>1995-12-22</td>\n",
       "      <td>None</td>\n",
       "      <td>127</td>\n",
       "      <td>8.14522e+07</td>\n",
       "      <td>16000000</td>\n",
       "      <td>...</td>\n",
       "      <td>Whitney Houston, Angela Bassett, Loretta Devin...</td>\n",
       "      <td>Twentieth Century Fox Film Corporation</td>\n",
       "      <td>[United States of America]</td>\n",
       "      <td>3.85949</td>\n",
       "      <td>6.1</td>\n",
       "      <td>34</td>\n",
       "      <td>en</td>\n",
       "      <td>tt0114885</td>\n",
       "      <td>/16XOMpEaLWkrcPqSQqhTmeJuqQl.jpg</td>\n",
       "      <td>1995</td>\n",
       "    </tr>\n",
       "    <tr>\n",
       "      <td>11862</td>\n",
       "      <td>Father of the Bride Part II</td>\n",
       "      <td>Just When His World Is Back To Normal... He's ...</td>\n",
       "      <td>Just when George Banks has recovered from his ...</td>\n",
       "      <td>[comedy]</td>\n",
       "      <td>baby, midlife crisis, confidence, aging, daugh...</td>\n",
       "      <td>1995-02-10</td>\n",
       "      <td>Father of the Bride Collection</td>\n",
       "      <td>106</td>\n",
       "      <td>7.65789e+07</td>\n",
       "      <td>0</td>\n",
       "      <td>...</td>\n",
       "      <td>Steve Martin, Diane Keaton, Martin Short, Kimb...</td>\n",
       "      <td>Sandollar Productions, Touchstone Pictures</td>\n",
       "      <td>[United States of America]</td>\n",
       "      <td>8.38752</td>\n",
       "      <td>5.7</td>\n",
       "      <td>173</td>\n",
       "      <td>en</td>\n",
       "      <td>tt0113041</td>\n",
       "      <td>/e64sOI48hQXyru7naBFyssKFxVd.jpg</td>\n",
       "      <td>1995</td>\n",
       "    </tr>\n",
       "    <tr>\n",
       "      <td>...</td>\n",
       "      <td>...</td>\n",
       "      <td>...</td>\n",
       "      <td>...</td>\n",
       "      <td>...</td>\n",
       "      <td>...</td>\n",
       "      <td>...</td>\n",
       "      <td>...</td>\n",
       "      <td>...</td>\n",
       "      <td>...</td>\n",
       "      <td>...</td>\n",
       "      <td>...</td>\n",
       "      <td>...</td>\n",
       "      <td>...</td>\n",
       "      <td>...</td>\n",
       "      <td>...</td>\n",
       "      <td>...</td>\n",
       "      <td>...</td>\n",
       "      <td>...</td>\n",
       "      <td>...</td>\n",
       "      <td>...</td>\n",
       "      <td>...</td>\n",
       "    </tr>\n",
       "    <tr>\n",
       "      <td>222848</td>\n",
       "      <td>Caged Heat 3000</td>\n",
       "      <td>None</td>\n",
       "      <td>It's the year 3000 AD. The world's most danger...</td>\n",
       "      <td>[science fiction]</td>\n",
       "      <td>None</td>\n",
       "      <td>1995-01-01</td>\n",
       "      <td>None</td>\n",
       "      <td>85</td>\n",
       "      <td>0</td>\n",
       "      <td>0</td>\n",
       "      <td>...</td>\n",
       "      <td>Lisa Boyle, Kena Land, Zaneta Polard, Don Yana...</td>\n",
       "      <td>Concorde-New Horizons</td>\n",
       "      <td>[United States of America]</td>\n",
       "      <td>0.661558</td>\n",
       "      <td>3.5</td>\n",
       "      <td>1</td>\n",
       "      <td>en</td>\n",
       "      <td>tt0112613</td>\n",
       "      <td>/4lF9LH0b0Z1X94xGK9IOzqEW6k1.jpg</td>\n",
       "      <td>1995</td>\n",
       "    </tr>\n",
       "    <tr>\n",
       "      <td>30840</td>\n",
       "      <td>Robin Hood</td>\n",
       "      <td>None</td>\n",
       "      <td>Yet another version of the classic epic, with ...</td>\n",
       "      <td>[drama, action, romance]</td>\n",
       "      <td>None</td>\n",
       "      <td>1991-05-13</td>\n",
       "      <td>None</td>\n",
       "      <td>104</td>\n",
       "      <td>0</td>\n",
       "      <td>0</td>\n",
       "      <td>...</td>\n",
       "      <td>Patrick Bergin, Uma Thurman, David Morrissey, ...</td>\n",
       "      <td>Westdeutscher Rundfunk (WDR), Working Title Fi...</td>\n",
       "      <td>[Canada, Germany, United Kingdom, United State...</td>\n",
       "      <td>5.68375</td>\n",
       "      <td>5.7</td>\n",
       "      <td>26</td>\n",
       "      <td>en</td>\n",
       "      <td>tt0102797</td>\n",
       "      <td>/fQC46NglNiEMZBv5XHoyLuOWoN5.jpg</td>\n",
       "      <td>1991</td>\n",
       "    </tr>\n",
       "    <tr>\n",
       "      <td>439050</td>\n",
       "      <td>Subdue</td>\n",
       "      <td>Rising and falling between a man and woman</td>\n",
       "      <td>Rising and falling between a man and woman.</td>\n",
       "      <td>[drama, family]</td>\n",
       "      <td>tragic love</td>\n",
       "      <td>None</td>\n",
       "      <td>None</td>\n",
       "      <td>90</td>\n",
       "      <td>0</td>\n",
       "      <td>0</td>\n",
       "      <td>...</td>\n",
       "      <td>Leila Hatami, Kourosh Tahami, Elham Korda</td>\n",
       "      <td>None</td>\n",
       "      <td>[Iran]</td>\n",
       "      <td>0.072051</td>\n",
       "      <td>4</td>\n",
       "      <td>1</td>\n",
       "      <td>fa</td>\n",
       "      <td>tt6209470</td>\n",
       "      <td>/jldsYflnId4tTWPx8es3uzsB1I8.jpg</td>\n",
       "      <td>None</td>\n",
       "    </tr>\n",
       "    <tr>\n",
       "      <td>111109</td>\n",
       "      <td>Century of Birthing</td>\n",
       "      <td>None</td>\n",
       "      <td>An artist struggles to finish his work while a...</td>\n",
       "      <td>[drama]</td>\n",
       "      <td>artist, play, pinoy</td>\n",
       "      <td>2011-11-17</td>\n",
       "      <td>None</td>\n",
       "      <td>360</td>\n",
       "      <td>0</td>\n",
       "      <td>0</td>\n",
       "      <td>...</td>\n",
       "      <td>Angel Aquino, Perry Dizon, Hazel Orencio, Joel...</td>\n",
       "      <td>Sine Olivia</td>\n",
       "      <td>[Philippines]</td>\n",
       "      <td>0.178241</td>\n",
       "      <td>9</td>\n",
       "      <td>3</td>\n",
       "      <td>tl</td>\n",
       "      <td>tt2028550</td>\n",
       "      <td>/xZkmxsNmYXJbKVsTRLLx3pqGHx7.jpg</td>\n",
       "      <td>2011</td>\n",
       "    </tr>\n",
       "    <tr>\n",
       "      <td>67758</td>\n",
       "      <td>Betrayal</td>\n",
       "      <td>A deadly game of wits.</td>\n",
       "      <td>When one of her hits goes wrong, a professiona...</td>\n",
       "      <td>[action, drama, thriller]</td>\n",
       "      <td>None</td>\n",
       "      <td>2003-08-01</td>\n",
       "      <td>None</td>\n",
       "      <td>90</td>\n",
       "      <td>0</td>\n",
       "      <td>0</td>\n",
       "      <td>...</td>\n",
       "      <td>Erika Eleniak, Adam Baldwin, Julie du Page, Ja...</td>\n",
       "      <td>American World Pictures</td>\n",
       "      <td>[United States of America]</td>\n",
       "      <td>0.903007</td>\n",
       "      <td>3.8</td>\n",
       "      <td>6</td>\n",
       "      <td>en</td>\n",
       "      <td>tt0303758</td>\n",
       "      <td>/d5bX92nDsISNhu3ZT69uHwmfCGw.jpg</td>\n",
       "      <td>2003</td>\n",
       "    </tr>\n",
       "  </tbody>\n",
       "</table>\n",
       "<p>44104 rows × 21 columns</p>\n",
       "</div>"
      ],
      "text/plain": [
       "                              title  \\\n",
       "id                                    \n",
       "862                       Toy Story   \n",
       "8844                        Jumanji   \n",
       "15602              Grumpier Old Men   \n",
       "31357             Waiting to Exhale   \n",
       "11862   Father of the Bride Part II   \n",
       "...                             ...   \n",
       "222848              Caged Heat 3000   \n",
       "30840                    Robin Hood   \n",
       "439050                       Subdue   \n",
       "111109          Century of Birthing   \n",
       "67758                      Betrayal   \n",
       "\n",
       "                                                  tagline  \\\n",
       "id                                                          \n",
       "862                                                  None   \n",
       "8844            Roll the dice and unleash the excitement!   \n",
       "15602   Still Yelling. Still Fighting. Still Ready for...   \n",
       "31357   Friends are the people who let you be yourself...   \n",
       "11862   Just When His World Is Back To Normal... He's ...   \n",
       "...                                                   ...   \n",
       "222848                                               None   \n",
       "30840                                                None   \n",
       "439050         Rising and falling between a man and woman   \n",
       "111109                                               None   \n",
       "67758                              A deadly game of wits.   \n",
       "\n",
       "                                              description  \\\n",
       "id                                                          \n",
       "862     Led by Woody, Andy's toys live happily in his ...   \n",
       "8844    When siblings Judy and Peter discover an encha...   \n",
       "15602   A family wedding reignites the ancient feud be...   \n",
       "31357   Cheated on, mistreated and stepped on, the wom...   \n",
       "11862   Just when George Banks has recovered from his ...   \n",
       "...                                                   ...   \n",
       "222848  It's the year 3000 AD. The world's most danger...   \n",
       "30840   Yet another version of the classic epic, with ...   \n",
       "439050        Rising and falling between a man and woman.   \n",
       "111109  An artist struggles to finish his work while a...   \n",
       "67758   When one of her hits goes wrong, a professiona...   \n",
       "\n",
       "                              genres  \\\n",
       "id                                     \n",
       "862      [animation, comedy, family]   \n",
       "8844    [adventure, fantasy, family]   \n",
       "15602              [romance, comedy]   \n",
       "31357       [comedy, drama, romance]   \n",
       "11862                       [comedy]   \n",
       "...                              ...   \n",
       "222848             [science fiction]   \n",
       "30840       [drama, action, romance]   \n",
       "439050               [drama, family]   \n",
       "111109                       [drama]   \n",
       "67758      [action, drama, thriller]   \n",
       "\n",
       "                                                 keywords        date  \\\n",
       "id                                                                      \n",
       "862     jealousy, toy, boy, friendship, friends, rival...  1995-10-30   \n",
       "8844    board game, disappearance, based on children's...  1995-12-15   \n",
       "15602   fishing, best friend, duringcreditsstinger, ol...  1995-12-22   \n",
       "31357   based on novel, interracial relationship, sing...  1995-12-22   \n",
       "11862   baby, midlife crisis, confidence, aging, daugh...  1995-02-10   \n",
       "...                                                   ...         ...   \n",
       "222848                                               None  1995-01-01   \n",
       "30840                                                None  1991-05-13   \n",
       "439050                                        tragic love        None   \n",
       "111109                                artist, play, pinoy  2011-11-17   \n",
       "67758                                                None  2003-08-01   \n",
       "\n",
       "                            collection runtime      revenue    budget  ...  \\\n",
       "id                                                                     ...   \n",
       "862               Toy Story Collection      81  3.73554e+08  30000000  ...   \n",
       "8844                              None     104  2.62797e+08  65000000  ...   \n",
       "15602        Grumpy Old Men Collection     101            0         0  ...   \n",
       "31357                             None     127  8.14522e+07  16000000  ...   \n",
       "11862   Father of the Bride Collection     106  7.65789e+07         0  ...   \n",
       "...                                ...     ...          ...       ...  ...   \n",
       "222848                            None      85            0         0  ...   \n",
       "30840                             None     104            0         0  ...   \n",
       "439050                            None      90            0         0  ...   \n",
       "111109                            None     360            0         0  ...   \n",
       "67758                             None      90            0         0  ...   \n",
       "\n",
       "                                                     cast  \\\n",
       "id                                                          \n",
       "862     Tom Hanks, Tim Allen, Don Rickles, Jim Varney,...   \n",
       "8844    Robin Williams, Jonathan Hyde, Kirsten Dunst, ...   \n",
       "15602   Walter Matthau, Jack Lemmon, Ann-Margret, Soph...   \n",
       "31357   Whitney Houston, Angela Bassett, Loretta Devin...   \n",
       "11862   Steve Martin, Diane Keaton, Martin Short, Kimb...   \n",
       "...                                                   ...   \n",
       "222848  Lisa Boyle, Kena Land, Zaneta Polard, Don Yana...   \n",
       "30840   Patrick Bergin, Uma Thurman, David Morrissey, ...   \n",
       "439050          Leila Hatami, Kourosh Tahami, Elham Korda   \n",
       "111109  Angel Aquino, Perry Dizon, Hazel Orencio, Joel...   \n",
       "67758   Erika Eleniak, Adam Baldwin, Julie du Page, Ja...   \n",
       "\n",
       "                                     production_companies  \\\n",
       "id                                                          \n",
       "862                               Pixar Animation Studios   \n",
       "8844    TriStar Pictures, Teitler Film, Interscope Com...   \n",
       "15602                        Warner Bros., Lancaster Gate   \n",
       "31357              Twentieth Century Fox Film Corporation   \n",
       "11862          Sandollar Productions, Touchstone Pictures   \n",
       "...                                                   ...   \n",
       "222848                              Concorde-New Horizons   \n",
       "30840   Westdeutscher Rundfunk (WDR), Working Title Fi...   \n",
       "439050                                               None   \n",
       "111109                                        Sine Olivia   \n",
       "67758                             American World Pictures   \n",
       "\n",
       "                                     production_countries popularity  \\\n",
       "id                                                                     \n",
       "862                            [United States of America]    21.9469   \n",
       "8844                           [United States of America]    17.0155   \n",
       "15602                          [United States of America]    11.7129   \n",
       "31357                          [United States of America]    3.85949   \n",
       "11862                          [United States of America]    8.38752   \n",
       "...                                                   ...        ...   \n",
       "222848                         [United States of America]   0.661558   \n",
       "30840   [Canada, Germany, United Kingdom, United State...    5.68375   \n",
       "439050                                             [Iran]   0.072051   \n",
       "111109                                      [Philippines]   0.178241   \n",
       "67758                          [United States of America]   0.903007   \n",
       "\n",
       "       average_vote num_votes language    imdb_id  \\\n",
       "id                                                  \n",
       "862             7.7      5415       en  tt0114709   \n",
       "8844            6.9      2413       en  tt0113497   \n",
       "15602           6.5        92       en  tt0113228   \n",
       "31357           6.1        34       en  tt0114885   \n",
       "11862           5.7       173       en  tt0113041   \n",
       "...             ...       ...      ...        ...   \n",
       "222848          3.5         1       en  tt0112613   \n",
       "30840           5.7        26       en  tt0102797   \n",
       "439050            4         1       fa  tt6209470   \n",
       "111109            9         3       tl  tt2028550   \n",
       "67758           3.8         6       en  tt0303758   \n",
       "\n",
       "                              poster_url  year  \n",
       "id                                              \n",
       "862     /rhIRbceoE9lR4veEXuwCC2wARtG.jpg  1995  \n",
       "8844    /vzmL6fP7aPKNKPRTFnZmiUfciyV.jpg  1995  \n",
       "15602   /6ksm1sjKMFLbO7UY2i6G1ju9SML.jpg  1995  \n",
       "31357   /16XOMpEaLWkrcPqSQqhTmeJuqQl.jpg  1995  \n",
       "11862   /e64sOI48hQXyru7naBFyssKFxVd.jpg  1995  \n",
       "...                                  ...   ...  \n",
       "222848  /4lF9LH0b0Z1X94xGK9IOzqEW6k1.jpg  1995  \n",
       "30840   /fQC46NglNiEMZBv5XHoyLuOWoN5.jpg  1991  \n",
       "439050  /jldsYflnId4tTWPx8es3uzsB1I8.jpg  None  \n",
       "111109  /xZkmxsNmYXJbKVsTRLLx3pqGHx7.jpg  2011  \n",
       "67758   /d5bX92nDsISNhu3ZT69uHwmfCGw.jpg  2003  \n",
       "\n",
       "[44104 rows x 21 columns]"
      ]
     },
     "execution_count": 65,
     "metadata": {},
     "output_type": "execute_result"
    }
   ],
   "source": [
    "df4.set_index('id')"
   ]
  },
  {
   "cell_type": "code",
   "execution_count": 66,
   "metadata": {},
   "outputs": [
    {
     "data": {
      "text/html": [
       "<div>\n",
       "<style scoped>\n",
       "    .dataframe tbody tr th:only-of-type {\n",
       "        vertical-align: middle;\n",
       "    }\n",
       "\n",
       "    .dataframe tbody tr th {\n",
       "        vertical-align: top;\n",
       "    }\n",
       "\n",
       "    .dataframe thead th {\n",
       "        text-align: right;\n",
       "    }\n",
       "</style>\n",
       "<table border=\"1\" class=\"dataframe\">\n",
       "  <thead>\n",
       "    <tr style=\"text-align: right;\">\n",
       "      <th></th>\n",
       "      <th>title</th>\n",
       "      <th>tagline</th>\n",
       "      <th>description</th>\n",
       "      <th>genres</th>\n",
       "      <th>keywords</th>\n",
       "      <th>date</th>\n",
       "      <th>collection</th>\n",
       "      <th>runtime</th>\n",
       "      <th>revenue</th>\n",
       "      <th>budget</th>\n",
       "      <th>...</th>\n",
       "      <th>production_companies</th>\n",
       "      <th>production_countries</th>\n",
       "      <th>popularity</th>\n",
       "      <th>average_vote</th>\n",
       "      <th>num_votes</th>\n",
       "      <th>language</th>\n",
       "      <th>imdb_id</th>\n",
       "      <th>poster_url</th>\n",
       "      <th>year</th>\n",
       "      <th>weighted_rating</th>\n",
       "    </tr>\n",
       "    <tr>\n",
       "      <th>id</th>\n",
       "      <th></th>\n",
       "      <th></th>\n",
       "      <th></th>\n",
       "      <th></th>\n",
       "      <th></th>\n",
       "      <th></th>\n",
       "      <th></th>\n",
       "      <th></th>\n",
       "      <th></th>\n",
       "      <th></th>\n",
       "      <th></th>\n",
       "      <th></th>\n",
       "      <th></th>\n",
       "      <th></th>\n",
       "      <th></th>\n",
       "      <th></th>\n",
       "      <th></th>\n",
       "      <th></th>\n",
       "      <th></th>\n",
       "      <th></th>\n",
       "      <th></th>\n",
       "    </tr>\n",
       "  </thead>\n",
       "  <tbody>\n",
       "    <tr>\n",
       "      <td>862</td>\n",
       "      <td>Toy Story</td>\n",
       "      <td>None</td>\n",
       "      <td>Led by Woody, Andy's toys live happily in his ...</td>\n",
       "      <td>animation, comedy, family</td>\n",
       "      <td>jealousy, toy, boy, friendship, friends, rival...</td>\n",
       "      <td>1995-10-30</td>\n",
       "      <td>Toy Story Collection</td>\n",
       "      <td>81</td>\n",
       "      <td>3.73554e+08</td>\n",
       "      <td>30000000</td>\n",
       "      <td>...</td>\n",
       "      <td>Pixar Animation Studios</td>\n",
       "      <td>United States of America</td>\n",
       "      <td>21.9469</td>\n",
       "      <td>7.7</td>\n",
       "      <td>5415</td>\n",
       "      <td>en</td>\n",
       "      <td>tt0114709</td>\n",
       "      <td>/rhIRbceoE9lR4veEXuwCC2wARtG.jpg</td>\n",
       "      <td>1995</td>\n",
       "      <td>7.669597</td>\n",
       "    </tr>\n",
       "    <tr>\n",
       "      <td>8844</td>\n",
       "      <td>Jumanji</td>\n",
       "      <td>Roll the dice and unleash the excitement!</td>\n",
       "      <td>When siblings Judy and Peter discover an encha...</td>\n",
       "      <td>adventure, fantasy, family</td>\n",
       "      <td>board game, disappearance, based on children's...</td>\n",
       "      <td>1995-12-15</td>\n",
       "      <td>None</td>\n",
       "      <td>104</td>\n",
       "      <td>2.62797e+08</td>\n",
       "      <td>65000000</td>\n",
       "      <td>...</td>\n",
       "      <td>TriStar Pictures, Teitler Film, Interscope Com...</td>\n",
       "      <td>United States of America</td>\n",
       "      <td>17.0155</td>\n",
       "      <td>6.9</td>\n",
       "      <td>2413</td>\n",
       "      <td>en</td>\n",
       "      <td>tt0113497</td>\n",
       "      <td>/vzmL6fP7aPKNKPRTFnZmiUfciyV.jpg</td>\n",
       "      <td>1995</td>\n",
       "      <td>6.858660</td>\n",
       "    </tr>\n",
       "    <tr>\n",
       "      <td>15602</td>\n",
       "      <td>Grumpier Old Men</td>\n",
       "      <td>Still Yelling. Still Fighting. Still Ready for...</td>\n",
       "      <td>A family wedding reignites the ancient feud be...</td>\n",
       "      <td>romance, comedy</td>\n",
       "      <td>fishing, best friend, duringcreditsstinger, ol...</td>\n",
       "      <td>1995-12-22</td>\n",
       "      <td>Grumpy Old Men Collection</td>\n",
       "      <td>101</td>\n",
       "      <td>0</td>\n",
       "      <td>0</td>\n",
       "      <td>...</td>\n",
       "      <td>Warner Bros., Lancaster Gate</td>\n",
       "      <td>United States of America</td>\n",
       "      <td>11.7129</td>\n",
       "      <td>6.5</td>\n",
       "      <td>92</td>\n",
       "      <td>en</td>\n",
       "      <td>tt0113228</td>\n",
       "      <td>/6ksm1sjKMFLbO7UY2i6G1ju9SML.jpg</td>\n",
       "      <td>1995</td>\n",
       "      <td>6.086850</td>\n",
       "    </tr>\n",
       "    <tr>\n",
       "      <td>11862</td>\n",
       "      <td>Father of the Bride Part II</td>\n",
       "      <td>Just When His World Is Back To Normal... He's ...</td>\n",
       "      <td>Just when George Banks has recovered from his ...</td>\n",
       "      <td>comedy</td>\n",
       "      <td>baby, midlife crisis, confidence, aging, daugh...</td>\n",
       "      <td>1995-02-10</td>\n",
       "      <td>Father of the Bride Collection</td>\n",
       "      <td>106</td>\n",
       "      <td>7.65789e+07</td>\n",
       "      <td>0</td>\n",
       "      <td>...</td>\n",
       "      <td>Sandollar Productions, Touchstone Pictures</td>\n",
       "      <td>United States of America</td>\n",
       "      <td>8.38752</td>\n",
       "      <td>5.7</td>\n",
       "      <td>173</td>\n",
       "      <td>en</td>\n",
       "      <td>tt0113041</td>\n",
       "      <td>/e64sOI48hQXyru7naBFyssKFxVd.jpg</td>\n",
       "      <td>1995</td>\n",
       "      <td>5.672088</td>\n",
       "    </tr>\n",
       "    <tr>\n",
       "      <td>949</td>\n",
       "      <td>Heat</td>\n",
       "      <td>A Los Angeles Crime Saga</td>\n",
       "      <td>Obsessive master thief, Neil McCauley leads a ...</td>\n",
       "      <td>action, crime, drama, thriller</td>\n",
       "      <td>robbery, detective, bank, obsession, chase, sh...</td>\n",
       "      <td>1995-12-15</td>\n",
       "      <td>None</td>\n",
       "      <td>170</td>\n",
       "      <td>1.87437e+08</td>\n",
       "      <td>60000000</td>\n",
       "      <td>...</td>\n",
       "      <td>Regency Enterprises, Forward Pass, Warner Bros.</td>\n",
       "      <td>United States of America</td>\n",
       "      <td>17.9249</td>\n",
       "      <td>7.7</td>\n",
       "      <td>1886</td>\n",
       "      <td>en</td>\n",
       "      <td>tt0113277</td>\n",
       "      <td>/zMyfPUelumio3tiDKPffaUpsQTD.jpg</td>\n",
       "      <td>1995</td>\n",
       "      <td>7.615025</td>\n",
       "    </tr>\n",
       "    <tr>\n",
       "      <td>...</td>\n",
       "      <td>...</td>\n",
       "      <td>...</td>\n",
       "      <td>...</td>\n",
       "      <td>...</td>\n",
       "      <td>...</td>\n",
       "      <td>...</td>\n",
       "      <td>...</td>\n",
       "      <td>...</td>\n",
       "      <td>...</td>\n",
       "      <td>...</td>\n",
       "      <td>...</td>\n",
       "      <td>...</td>\n",
       "      <td>...</td>\n",
       "      <td>...</td>\n",
       "      <td>...</td>\n",
       "      <td>...</td>\n",
       "      <td>...</td>\n",
       "      <td>...</td>\n",
       "      <td>...</td>\n",
       "      <td>...</td>\n",
       "      <td>...</td>\n",
       "    </tr>\n",
       "    <tr>\n",
       "      <td>277839</td>\n",
       "      <td>Good Guys Go to Heaven, Bad Guys Go to Pattaya</td>\n",
       "      <td>None</td>\n",
       "      <td>Franky and Krimo dream of leaving the grey gri...</td>\n",
       "      <td>comedy</td>\n",
       "      <td>None</td>\n",
       "      <td>2016-02-24</td>\n",
       "      <td>None</td>\n",
       "      <td>100</td>\n",
       "      <td>0</td>\n",
       "      <td>5402000</td>\n",
       "      <td>...</td>\n",
       "      <td>Mandarin Cinéma</td>\n",
       "      <td>France</td>\n",
       "      <td>5.61388</td>\n",
       "      <td>5.3</td>\n",
       "      <td>153</td>\n",
       "      <td>fr</td>\n",
       "      <td>tt4531694</td>\n",
       "      <td>/p7TFdcE2E9aqwqKMxQEPZZxDjv8.jpg</td>\n",
       "      <td>2016</td>\n",
       "      <td>5.407031</td>\n",
       "    </tr>\n",
       "    <tr>\n",
       "      <td>430365</td>\n",
       "      <td>With Open Arms</td>\n",
       "      <td>Thanks for the invitation!</td>\n",
       "      <td>Jean-Étienne Fougerole is an intellectual bohe...</td>\n",
       "      <td>comedy</td>\n",
       "      <td>None</td>\n",
       "      <td>2017-04-05</td>\n",
       "      <td>None</td>\n",
       "      <td>92</td>\n",
       "      <td>0</td>\n",
       "      <td>0</td>\n",
       "      <td>...</td>\n",
       "      <td>M6 Films, SND, Canal+, Caméra One, Nexus Facto...</td>\n",
       "      <td>France</td>\n",
       "      <td>7.25049</td>\n",
       "      <td>5.2</td>\n",
       "      <td>94</td>\n",
       "      <td>fr</td>\n",
       "      <td>tt5804948</td>\n",
       "      <td>/zpWrwPzdLi46XP6nG97FABNyF9W.jpg</td>\n",
       "      <td>2017</td>\n",
       "      <td>5.389300</td>\n",
       "    </tr>\n",
       "    <tr>\n",
       "      <td>248705</td>\n",
       "      <td>The Visitors: Bastille Day</td>\n",
       "      <td>None</td>\n",
       "      <td>Stuck in the corridors of time, Godefroy de Mo...</td>\n",
       "      <td>comedy</td>\n",
       "      <td>nazis, castle, time travel, robespierre</td>\n",
       "      <td>2016-03-23</td>\n",
       "      <td>The Visitors Collection</td>\n",
       "      <td>110</td>\n",
       "      <td>0</td>\n",
       "      <td>25868826</td>\n",
       "      <td>...</td>\n",
       "      <td>Gaumont</td>\n",
       "      <td>France</td>\n",
       "      <td>7.29492</td>\n",
       "      <td>4</td>\n",
       "      <td>167</td>\n",
       "      <td>fr</td>\n",
       "      <td>tt2441982</td>\n",
       "      <td>/2tR5dfWONNPCjW3Th2RFk2DuLsY.jpg</td>\n",
       "      <td>2016</td>\n",
       "      <td>4.522017</td>\n",
       "    </tr>\n",
       "    <tr>\n",
       "      <td>455661</td>\n",
       "      <td>In a Heartbeat</td>\n",
       "      <td>The Heart Wants What The Heart Wants</td>\n",
       "      <td>A closeted boy runs the risk of being outed by...</td>\n",
       "      <td>family, animation, romance, comedy</td>\n",
       "      <td>love, teenager, lgbt, short</td>\n",
       "      <td>2017-06-01</td>\n",
       "      <td>None</td>\n",
       "      <td>4</td>\n",
       "      <td>0</td>\n",
       "      <td>0</td>\n",
       "      <td>...</td>\n",
       "      <td>Ringling College of Art and Design</td>\n",
       "      <td>United States of America</td>\n",
       "      <td>20.8218</td>\n",
       "      <td>8.3</td>\n",
       "      <td>146</td>\n",
       "      <td>en</td>\n",
       "      <td>tt6969946</td>\n",
       "      <td>/wJUJROdLOtOzMixkjkx1aaZGSLl.jpg</td>\n",
       "      <td>2017</td>\n",
       "      <td>7.348399</td>\n",
       "    </tr>\n",
       "    <tr>\n",
       "      <td>14008</td>\n",
       "      <td>Cadet Kelly</td>\n",
       "      <td>Too Cool For The Rules!</td>\n",
       "      <td>Hyperactive teenager Kelly is enrolled into a ...</td>\n",
       "      <td>comedy</td>\n",
       "      <td>military school</td>\n",
       "      <td>2002-03-07</td>\n",
       "      <td>None</td>\n",
       "      <td>101</td>\n",
       "      <td>0</td>\n",
       "      <td>0</td>\n",
       "      <td>...</td>\n",
       "      <td>Walt Disney Television, Disney Channel, Leider...</td>\n",
       "      <td>Canada, United States of America</td>\n",
       "      <td>4.39239</td>\n",
       "      <td>5.2</td>\n",
       "      <td>145</td>\n",
       "      <td>en</td>\n",
       "      <td>tt0294425</td>\n",
       "      <td>/9sQVYo7B9cSexWXoQVzFFijCbD2.jpg</td>\n",
       "      <td>2002</td>\n",
       "      <td>5.346392</td>\n",
       "    </tr>\n",
       "  </tbody>\n",
       "</table>\n",
       "<p>6987 rows × 22 columns</p>\n",
       "</div>"
      ],
      "text/plain": [
       "                                                 title  \\\n",
       "id                                                       \n",
       "862                                          Toy Story   \n",
       "8844                                           Jumanji   \n",
       "15602                                 Grumpier Old Men   \n",
       "11862                      Father of the Bride Part II   \n",
       "949                                               Heat   \n",
       "...                                                ...   \n",
       "277839  Good Guys Go to Heaven, Bad Guys Go to Pattaya   \n",
       "430365                                  With Open Arms   \n",
       "248705                      The Visitors: Bastille Day   \n",
       "455661                                  In a Heartbeat   \n",
       "14008                                      Cadet Kelly   \n",
       "\n",
       "                                                  tagline  \\\n",
       "id                                                          \n",
       "862                                                  None   \n",
       "8844            Roll the dice and unleash the excitement!   \n",
       "15602   Still Yelling. Still Fighting. Still Ready for...   \n",
       "11862   Just When His World Is Back To Normal... He's ...   \n",
       "949                              A Los Angeles Crime Saga   \n",
       "...                                                   ...   \n",
       "277839                                               None   \n",
       "430365                         Thanks for the invitation!   \n",
       "248705                                               None   \n",
       "455661               The Heart Wants What The Heart Wants   \n",
       "14008                             Too Cool For The Rules!   \n",
       "\n",
       "                                              description  \\\n",
       "id                                                          \n",
       "862     Led by Woody, Andy's toys live happily in his ...   \n",
       "8844    When siblings Judy and Peter discover an encha...   \n",
       "15602   A family wedding reignites the ancient feud be...   \n",
       "11862   Just when George Banks has recovered from his ...   \n",
       "949     Obsessive master thief, Neil McCauley leads a ...   \n",
       "...                                                   ...   \n",
       "277839  Franky and Krimo dream of leaving the grey gri...   \n",
       "430365  Jean-Étienne Fougerole is an intellectual bohe...   \n",
       "248705  Stuck in the corridors of time, Godefroy de Mo...   \n",
       "455661  A closeted boy runs the risk of being outed by...   \n",
       "14008   Hyperactive teenager Kelly is enrolled into a ...   \n",
       "\n",
       "                                    genres  \\\n",
       "id                                           \n",
       "862              animation, comedy, family   \n",
       "8844            adventure, fantasy, family   \n",
       "15602                      romance, comedy   \n",
       "11862                               comedy   \n",
       "949         action, crime, drama, thriller   \n",
       "...                                    ...   \n",
       "277839                              comedy   \n",
       "430365                              comedy   \n",
       "248705                              comedy   \n",
       "455661  family, animation, romance, comedy   \n",
       "14008                               comedy   \n",
       "\n",
       "                                                 keywords        date  \\\n",
       "id                                                                      \n",
       "862     jealousy, toy, boy, friendship, friends, rival...  1995-10-30   \n",
       "8844    board game, disappearance, based on children's...  1995-12-15   \n",
       "15602   fishing, best friend, duringcreditsstinger, ol...  1995-12-22   \n",
       "11862   baby, midlife crisis, confidence, aging, daugh...  1995-02-10   \n",
       "949     robbery, detective, bank, obsession, chase, sh...  1995-12-15   \n",
       "...                                                   ...         ...   \n",
       "277839                                               None  2016-02-24   \n",
       "430365                                               None  2017-04-05   \n",
       "248705            nazis, castle, time travel, robespierre  2016-03-23   \n",
       "455661                        love, teenager, lgbt, short  2017-06-01   \n",
       "14008                                     military school  2002-03-07   \n",
       "\n",
       "                            collection runtime      revenue    budget  ...  \\\n",
       "id                                                                     ...   \n",
       "862               Toy Story Collection      81  3.73554e+08  30000000  ...   \n",
       "8844                              None     104  2.62797e+08  65000000  ...   \n",
       "15602        Grumpy Old Men Collection     101            0         0  ...   \n",
       "11862   Father of the Bride Collection     106  7.65789e+07         0  ...   \n",
       "949                               None     170  1.87437e+08  60000000  ...   \n",
       "...                                ...     ...          ...       ...  ...   \n",
       "277839                            None     100            0   5402000  ...   \n",
       "430365                            None      92            0         0  ...   \n",
       "248705         The Visitors Collection     110            0  25868826  ...   \n",
       "455661                            None       4            0         0  ...   \n",
       "14008                             None     101            0         0  ...   \n",
       "\n",
       "                                     production_companies  \\\n",
       "id                                                          \n",
       "862                               Pixar Animation Studios   \n",
       "8844    TriStar Pictures, Teitler Film, Interscope Com...   \n",
       "15602                        Warner Bros., Lancaster Gate   \n",
       "11862          Sandollar Productions, Touchstone Pictures   \n",
       "949       Regency Enterprises, Forward Pass, Warner Bros.   \n",
       "...                                                   ...   \n",
       "277839                                    Mandarin Cinéma   \n",
       "430365  M6 Films, SND, Canal+, Caméra One, Nexus Facto...   \n",
       "248705                                            Gaumont   \n",
       "455661                 Ringling College of Art and Design   \n",
       "14008   Walt Disney Television, Disney Channel, Leider...   \n",
       "\n",
       "                    production_countries popularity average_vote num_votes  \\\n",
       "id                                                                           \n",
       "862             United States of America    21.9469          7.7      5415   \n",
       "8844            United States of America    17.0155          6.9      2413   \n",
       "15602           United States of America    11.7129          6.5        92   \n",
       "11862           United States of America    8.38752          5.7       173   \n",
       "949             United States of America    17.9249          7.7      1886   \n",
       "...                                  ...        ...          ...       ...   \n",
       "277839                            France    5.61388          5.3       153   \n",
       "430365                            France    7.25049          5.2        94   \n",
       "248705                            France    7.29492            4       167   \n",
       "455661          United States of America    20.8218          8.3       146   \n",
       "14008   Canada, United States of America    4.39239          5.2       145   \n",
       "\n",
       "       language    imdb_id                        poster_url  year  \\\n",
       "id                                                                   \n",
       "862          en  tt0114709  /rhIRbceoE9lR4veEXuwCC2wARtG.jpg  1995   \n",
       "8844         en  tt0113497  /vzmL6fP7aPKNKPRTFnZmiUfciyV.jpg  1995   \n",
       "15602        en  tt0113228  /6ksm1sjKMFLbO7UY2i6G1ju9SML.jpg  1995   \n",
       "11862        en  tt0113041  /e64sOI48hQXyru7naBFyssKFxVd.jpg  1995   \n",
       "949          en  tt0113277  /zMyfPUelumio3tiDKPffaUpsQTD.jpg  1995   \n",
       "...         ...        ...                               ...   ...   \n",
       "277839       fr  tt4531694  /p7TFdcE2E9aqwqKMxQEPZZxDjv8.jpg  2016   \n",
       "430365       fr  tt5804948  /zpWrwPzdLi46XP6nG97FABNyF9W.jpg  2017   \n",
       "248705       fr  tt2441982  /2tR5dfWONNPCjW3Th2RFk2DuLsY.jpg  2016   \n",
       "455661       en  tt6969946  /wJUJROdLOtOzMixkjkx1aaZGSLl.jpg  2017   \n",
       "14008        en  tt0294425  /9sQVYo7B9cSexWXoQVzFFijCbD2.jpg  2002   \n",
       "\n",
       "       weighted_rating  \n",
       "id                      \n",
       "862           7.669597  \n",
       "8844          6.858660  \n",
       "15602         6.086850  \n",
       "11862         5.672088  \n",
       "949           7.615025  \n",
       "...                ...  \n",
       "277839        5.407031  \n",
       "430365        5.389300  \n",
       "248705        4.522017  \n",
       "455661        7.348399  \n",
       "14008         5.346392  \n",
       "\n",
       "[6987 rows x 22 columns]"
      ]
     },
     "execution_count": 66,
     "metadata": {},
     "output_type": "execute_result"
    }
   ],
   "source": [
    "df2.set_index('id')"
   ]
  },
  {
   "cell_type": "code",
   "execution_count": 67,
   "metadata": {},
   "outputs": [],
   "source": [
    "df4['imbd_wr']=df2['weighted_rating']"
   ]
  },
  {
   "cell_type": "code",
   "execution_count": 68,
   "metadata": {},
   "outputs": [],
   "source": [
    "s = df4.apply(lambda x: pd.Series(x['genres']),axis=1).stack().reset_index(level=1, drop=True)\n",
    "s.name = 'genre'\n",
    "gen_df = df4.drop('genres', axis=1).join(s)"
   ]
  },
  {
   "cell_type": "markdown",
   "metadata": {},
   "source": [
    "This seperates the genre column by listing movies duplicately in dataframe. Example would be:  \n",
    "\n",
    "--before--  \n",
    "movie 1 : [comedy,dance]        \n",
    "\n",
    "--after--   \n",
    "movie 1 : [comedy]  \n",
    "movie 1 : [dance]"
   ]
  },
  {
   "cell_type": "code",
   "execution_count": 69,
   "metadata": {},
   "outputs": [],
   "source": [
    "def genre_rec(genre,method):\n",
    "    if(method == 'popularity'):\n",
    "        x = gen_df[gen_df['genre']==genre]\n",
    "        x=x.reset_index(drop=True)\n",
    "        return x[['title','year',method]].sort_values(by=[method],ascending=False).head(20)\n",
    "    \n",
    "    if(method =='imbd_wr'):\n",
    "        x = gen_df[gen_df['genre']==genre]\n",
    "        x=x.reset_index(drop=True)\n",
    "        return x[['title','year',method]].sort_values(by=[method],ascending=False).head(20)\n",
    "        "
   ]
  },
  {
   "cell_type": "markdown",
   "metadata": {},
   "source": [
    "genre_rec function returns a dataframe of top 20 movies filtered by genre and ranking method ('popularity' or 'wr_imbd')  "
   ]
  },
  {
   "cell_type": "code",
   "execution_count": 70,
   "metadata": {},
   "outputs": [
    {
     "data": {
      "text/html": [
       "<div>\n",
       "<style scoped>\n",
       "    .dataframe tbody tr th:only-of-type {\n",
       "        vertical-align: middle;\n",
       "    }\n",
       "\n",
       "    .dataframe tbody tr th {\n",
       "        vertical-align: top;\n",
       "    }\n",
       "\n",
       "    .dataframe thead th {\n",
       "        text-align: right;\n",
       "    }\n",
       "</style>\n",
       "<table border=\"1\" class=\"dataframe\">\n",
       "  <thead>\n",
       "    <tr style=\"text-align: right;\">\n",
       "      <th></th>\n",
       "      <th>title</th>\n",
       "      <th>year</th>\n",
       "      <th>popularity</th>\n",
       "    </tr>\n",
       "  </thead>\n",
       "  <tbody>\n",
       "    <tr>\n",
       "      <td>6568</td>\n",
       "      <td>Beauty and the Beast</td>\n",
       "      <td>2017</td>\n",
       "      <td>287.254</td>\n",
       "    </tr>\n",
       "    <tr>\n",
       "      <td>6799</td>\n",
       "      <td>The Bad Batch</td>\n",
       "      <td>2017</td>\n",
       "      <td>78.8072</td>\n",
       "    </tr>\n",
       "    <tr>\n",
       "      <td>90</td>\n",
       "      <td>Forrest Gump</td>\n",
       "      <td>1994</td>\n",
       "      <td>48.3072</td>\n",
       "    </tr>\n",
       "    <tr>\n",
       "      <td>6343</td>\n",
       "      <td>Your Name.</td>\n",
       "      <td>2016</td>\n",
       "      <td>34.4613</td>\n",
       "    </tr>\n",
       "    <tr>\n",
       "      <td>2335</td>\n",
       "      <td>Dilwale Dulhania Le Jayenge</td>\n",
       "      <td>1995</td>\n",
       "      <td>34.457</td>\n",
       "    </tr>\n",
       "    <tr>\n",
       "      <td>5896</td>\n",
       "      <td>Me Before You</td>\n",
       "      <td>2016</td>\n",
       "      <td>34.3476</td>\n",
       "    </tr>\n",
       "    <tr>\n",
       "      <td>5897</td>\n",
       "      <td>Me Before You</td>\n",
       "      <td>2016</td>\n",
       "      <td>34.3476</td>\n",
       "    </tr>\n",
       "    <tr>\n",
       "      <td>3274</td>\n",
       "      <td>The Twilight Saga: Eclipse</td>\n",
       "      <td>2010</td>\n",
       "      <td>34.0474</td>\n",
       "    </tr>\n",
       "    <tr>\n",
       "      <td>4808</td>\n",
       "      <td>Fifty Shades of Grey</td>\n",
       "      <td>2015</td>\n",
       "      <td>33.0684</td>\n",
       "    </tr>\n",
       "    <tr>\n",
       "      <td>2875</td>\n",
       "      <td>Twilight</td>\n",
       "      <td>2008</td>\n",
       "      <td>31.282</td>\n",
       "    </tr>\n",
       "    <tr>\n",
       "      <td>3100</td>\n",
       "      <td>The Twilight Saga: New Moon</td>\n",
       "      <td>2009</td>\n",
       "      <td>30.1213</td>\n",
       "    </tr>\n",
       "    <tr>\n",
       "      <td>6584</td>\n",
       "      <td>Fifty Shades Darker</td>\n",
       "      <td>2017</td>\n",
       "      <td>29.1304</td>\n",
       "    </tr>\n",
       "    <tr>\n",
       "      <td>412</td>\n",
       "      <td>Titanic</td>\n",
       "      <td>1997</td>\n",
       "      <td>26.8891</td>\n",
       "    </tr>\n",
       "    <tr>\n",
       "      <td>3947</td>\n",
       "      <td>The Twilight Saga: Breaking Dawn - Part 2</td>\n",
       "      <td>2012</td>\n",
       "      <td>26.081</td>\n",
       "    </tr>\n",
       "    <tr>\n",
       "      <td>3752</td>\n",
       "      <td>The Twilight Saga: Breaking Dawn - Part 1</td>\n",
       "      <td>2011</td>\n",
       "      <td>25.9725</td>\n",
       "    </tr>\n",
       "    <tr>\n",
       "      <td>6579</td>\n",
       "      <td>A Ghost Story</td>\n",
       "      <td>2017</td>\n",
       "      <td>24.3398</td>\n",
       "    </tr>\n",
       "    <tr>\n",
       "      <td>148</td>\n",
       "      <td>Beauty and the Beast</td>\n",
       "      <td>1991</td>\n",
       "      <td>23.4335</td>\n",
       "    </tr>\n",
       "    <tr>\n",
       "      <td>6567</td>\n",
       "      <td>The Big Sick</td>\n",
       "      <td>2017</td>\n",
       "      <td>23.4248</td>\n",
       "    </tr>\n",
       "    <tr>\n",
       "      <td>1171</td>\n",
       "      <td>Enigma</td>\n",
       "      <td>2001</td>\n",
       "      <td>21.5206</td>\n",
       "    </tr>\n",
       "    <tr>\n",
       "      <td>4626</td>\n",
       "      <td>The Key</td>\n",
       "      <td>1983</td>\n",
       "      <td>21.0796</td>\n",
       "    </tr>\n",
       "  </tbody>\n",
       "</table>\n",
       "</div>"
      ],
      "text/plain": [
       "                                          title  year popularity\n",
       "6568                       Beauty and the Beast  2017    287.254\n",
       "6799                              The Bad Batch  2017    78.8072\n",
       "90                                 Forrest Gump  1994    48.3072\n",
       "6343                                 Your Name.  2016    34.4613\n",
       "2335                Dilwale Dulhania Le Jayenge  1995     34.457\n",
       "5896                              Me Before You  2016    34.3476\n",
       "5897                              Me Before You  2016    34.3476\n",
       "3274                 The Twilight Saga: Eclipse  2010    34.0474\n",
       "4808                       Fifty Shades of Grey  2015    33.0684\n",
       "2875                                   Twilight  2008     31.282\n",
       "3100                The Twilight Saga: New Moon  2009    30.1213\n",
       "6584                        Fifty Shades Darker  2017    29.1304\n",
       "412                                     Titanic  1997    26.8891\n",
       "3947  The Twilight Saga: Breaking Dawn - Part 2  2012     26.081\n",
       "3752  The Twilight Saga: Breaking Dawn - Part 1  2011    25.9725\n",
       "6579                              A Ghost Story  2017    24.3398\n",
       "148                        Beauty and the Beast  1991    23.4335\n",
       "6567                               The Big Sick  2017    23.4248\n",
       "1171                                     Enigma  2001    21.5206\n",
       "4626                                    The Key  1983    21.0796"
      ]
     },
     "execution_count": 70,
     "metadata": {},
     "output_type": "execute_result"
    }
   ],
   "source": [
    "genre_rec('romance','popularity')"
   ]
  },
  {
   "cell_type": "code",
   "execution_count": 71,
   "metadata": {},
   "outputs": [
    {
     "data": {
      "text/html": [
       "<div>\n",
       "<style scoped>\n",
       "    .dataframe tbody tr th:only-of-type {\n",
       "        vertical-align: middle;\n",
       "    }\n",
       "\n",
       "    .dataframe tbody tr th {\n",
       "        vertical-align: top;\n",
       "    }\n",
       "\n",
       "    .dataframe thead th {\n",
       "        text-align: right;\n",
       "    }\n",
       "</style>\n",
       "<table border=\"1\" class=\"dataframe\">\n",
       "  <thead>\n",
       "    <tr style=\"text-align: right;\">\n",
       "      <th></th>\n",
       "      <th>title</th>\n",
       "      <th>year</th>\n",
       "      <th>imbd_wr</th>\n",
       "    </tr>\n",
       "  </thead>\n",
       "  <tbody>\n",
       "    <tr>\n",
       "      <td>53</td>\n",
       "      <td>Psycho</td>\n",
       "      <td>1960</td>\n",
       "      <td>8.213456</td>\n",
       "    </tr>\n",
       "    <tr>\n",
       "      <td>56</td>\n",
       "      <td>The Shining</td>\n",
       "      <td>1980</td>\n",
       "      <td>8.049858</td>\n",
       "    </tr>\n",
       "    <tr>\n",
       "      <td>51</td>\n",
       "      <td>Alien</td>\n",
       "      <td>1979</td>\n",
       "      <td>7.860581</td>\n",
       "    </tr>\n",
       "    <tr>\n",
       "      <td>168</td>\n",
       "      <td>The Thing</td>\n",
       "      <td>1982</td>\n",
       "      <td>7.697565</td>\n",
       "    </tr>\n",
       "    <tr>\n",
       "      <td>50</td>\n",
       "      <td>Aliens</td>\n",
       "      <td>1986</td>\n",
       "      <td>7.650309</td>\n",
       "    </tr>\n",
       "    <tr>\n",
       "      <td>4693</td>\n",
       "      <td>Black Mirror: White Christmas</td>\n",
       "      <td>2014</td>\n",
       "      <td>7.560956</td>\n",
       "    </tr>\n",
       "    <tr>\n",
       "      <td>4239</td>\n",
       "      <td>Train to Busan</td>\n",
       "      <td>2016</td>\n",
       "      <td>7.542987</td>\n",
       "    </tr>\n",
       "    <tr>\n",
       "      <td>87</td>\n",
       "      <td>Jaws</td>\n",
       "      <td>1975</td>\n",
       "      <td>7.444216</td>\n",
       "    </tr>\n",
       "    <tr>\n",
       "      <td>834</td>\n",
       "      <td>Shaun of the Dead</td>\n",
       "      <td>2004</td>\n",
       "      <td>7.440968</td>\n",
       "    </tr>\n",
       "    <tr>\n",
       "      <td>140</td>\n",
       "      <td>The Exorcist</td>\n",
       "      <td>1973</td>\n",
       "      <td>7.428946</td>\n",
       "    </tr>\n",
       "    <tr>\n",
       "      <td>1344</td>\n",
       "      <td>Let the Right One In</td>\n",
       "      <td>2008</td>\n",
       "      <td>7.359738</td>\n",
       "    </tr>\n",
       "    <tr>\n",
       "      <td>2174</td>\n",
       "      <td>The Conjuring</td>\n",
       "      <td>2013</td>\n",
       "      <td>7.355967</td>\n",
       "    </tr>\n",
       "    <tr>\n",
       "      <td>159</td>\n",
       "      <td>Rosemary's Baby</td>\n",
       "      <td>1968</td>\n",
       "      <td>7.344587</td>\n",
       "    </tr>\n",
       "    <tr>\n",
       "      <td>1708</td>\n",
       "      <td>I Saw the Devil</td>\n",
       "      <td>2010</td>\n",
       "      <td>7.340942</td>\n",
       "    </tr>\n",
       "    <tr>\n",
       "      <td>83</td>\n",
       "      <td>Nosferatu</td>\n",
       "      <td>1922</td>\n",
       "      <td>7.331210</td>\n",
       "    </tr>\n",
       "    <tr>\n",
       "      <td>57</td>\n",
       "      <td>Evil Dead II</td>\n",
       "      <td>1987</td>\n",
       "      <td>7.320165</td>\n",
       "    </tr>\n",
       "    <tr>\n",
       "      <td>479</td>\n",
       "      <td>The Others</td>\n",
       "      <td>2001</td>\n",
       "      <td>7.319988</td>\n",
       "    </tr>\n",
       "    <tr>\n",
       "      <td>178</td>\n",
       "      <td>King Kong</td>\n",
       "      <td>1933</td>\n",
       "      <td>7.307836</td>\n",
       "    </tr>\n",
       "    <tr>\n",
       "      <td>125</td>\n",
       "      <td>Halloween</td>\n",
       "      <td>1978</td>\n",
       "      <td>7.275164</td>\n",
       "    </tr>\n",
       "    <tr>\n",
       "      <td>42</td>\n",
       "      <td>Night of the Living Dead</td>\n",
       "      <td>1968</td>\n",
       "      <td>7.274871</td>\n",
       "    </tr>\n",
       "  </tbody>\n",
       "</table>\n",
       "</div>"
      ],
      "text/plain": [
       "                              title  year   imbd_wr\n",
       "53                           Psycho  1960  8.213456\n",
       "56                      The Shining  1980  8.049858\n",
       "51                            Alien  1979  7.860581\n",
       "168                       The Thing  1982  7.697565\n",
       "50                           Aliens  1986  7.650309\n",
       "4693  Black Mirror: White Christmas  2014  7.560956\n",
       "4239                 Train to Busan  2016  7.542987\n",
       "87                             Jaws  1975  7.444216\n",
       "834               Shaun of the Dead  2004  7.440968\n",
       "140                    The Exorcist  1973  7.428946\n",
       "1344           Let the Right One In  2008  7.359738\n",
       "2174                  The Conjuring  2013  7.355967\n",
       "159                 Rosemary's Baby  1968  7.344587\n",
       "1708                I Saw the Devil  2010  7.340942\n",
       "83                        Nosferatu  1922  7.331210\n",
       "57                     Evil Dead II  1987  7.320165\n",
       "479                      The Others  2001  7.319988\n",
       "178                       King Kong  1933  7.307836\n",
       "125                       Halloween  1978  7.275164\n",
       "42         Night of the Living Dead  1968  7.274871"
      ]
     },
     "execution_count": 71,
     "metadata": {},
     "output_type": "execute_result"
    }
   ],
   "source": [
    "genre_rec('horror','imbd_wr')"
   ]
  },
  {
   "cell_type": "markdown",
   "metadata": {},
   "source": [
    "**predicting genre by description**  \n",
    "\n",
    "Each movie have multiple genres, I am going to assume the first genre listed is the movie's primary genre. I will vectorize the description column and predict the genre which have been label encoded."
   ]
  },
  {
   "cell_type": "code",
   "execution_count": 111,
   "metadata": {},
   "outputs": [
    {
     "ename": "KeyError",
     "evalue": "\"None of ['id'] are in the columns\"",
     "output_type": "error",
     "traceback": [
      "\u001b[0;31m---------------------------------------------------------------------------\u001b[0m",
      "\u001b[0;31mKeyError\u001b[0m                                  Traceback (most recent call last)",
      "\u001b[0;32m<ipython-input-111-a0ac9c23f77d>\u001b[0m in \u001b[0;36m<module>\u001b[0;34m\u001b[0m\n\u001b[0;32m----> 1\u001b[0;31m \u001b[0mgen_df\u001b[0m\u001b[0;34m=\u001b[0m\u001b[0mgen_df\u001b[0m\u001b[0;34m.\u001b[0m\u001b[0mset_index\u001b[0m\u001b[0;34m(\u001b[0m\u001b[0;34m'id'\u001b[0m\u001b[0;34m)\u001b[0m\u001b[0;34m\u001b[0m\u001b[0;34m\u001b[0m\u001b[0m\n\u001b[0m",
      "\u001b[0;32m/opt/anaconda3/lib/python3.7/site-packages/pandas/core/frame.py\u001b[0m in \u001b[0;36mset_index\u001b[0;34m(self, keys, drop, append, inplace, verify_integrity)\u001b[0m\n\u001b[1;32m   4394\u001b[0m \u001b[0;34m\u001b[0m\u001b[0m\n\u001b[1;32m   4395\u001b[0m         \u001b[0;32mif\u001b[0m \u001b[0mmissing\u001b[0m\u001b[0;34m:\u001b[0m\u001b[0;34m\u001b[0m\u001b[0;34m\u001b[0m\u001b[0m\n\u001b[0;32m-> 4396\u001b[0;31m             \u001b[0;32mraise\u001b[0m \u001b[0mKeyError\u001b[0m\u001b[0;34m(\u001b[0m\u001b[0;34m\"None of {} are in the columns\"\u001b[0m\u001b[0;34m.\u001b[0m\u001b[0mformat\u001b[0m\u001b[0;34m(\u001b[0m\u001b[0mmissing\u001b[0m\u001b[0;34m)\u001b[0m\u001b[0;34m)\u001b[0m\u001b[0;34m\u001b[0m\u001b[0;34m\u001b[0m\u001b[0m\n\u001b[0m\u001b[1;32m   4397\u001b[0m \u001b[0;34m\u001b[0m\u001b[0m\n\u001b[1;32m   4398\u001b[0m         \u001b[0;32mif\u001b[0m \u001b[0minplace\u001b[0m\u001b[0;34m:\u001b[0m\u001b[0;34m\u001b[0m\u001b[0;34m\u001b[0m\u001b[0m\n",
      "\u001b[0;31mKeyError\u001b[0m: \"None of ['id'] are in the columns\""
     ]
    }
   ],
   "source": [
    "gen_df=gen_df.set_index('id')"
   ]
  },
  {
   "cell_type": "code",
   "execution_count": 112,
   "metadata": {},
   "outputs": [],
   "source": [
    "gen_df = gen_df.loc[~gen_df.index.duplicated(keep='first')]"
   ]
  },
  {
   "cell_type": "code",
   "execution_count": 113,
   "metadata": {},
   "outputs": [],
   "source": [
    "gen_df=gen_df[~gen_df['description'].isnull()]\n",
    "gen_df=gen_df[~gen_df['genre'].isnull()]\n",
    "encode=preprocessing.LabelEncoder()\n",
    "encode.fit(gen_df['genre'])\n",
    "y=encode.transform(gen_df['genre'])"
   ]
  },
  {
   "cell_type": "code",
   "execution_count": 114,
   "metadata": {},
   "outputs": [],
   "source": [
    "gen_df['description']=gen_df['description'].apply(cleanstring)"
   ]
  },
  {
   "cell_type": "code",
   "execution_count": 115,
   "metadata": {},
   "outputs": [],
   "source": [
    "X=TfidfVectorizer(\"english\",lowercase=True).fit_transform(gen_df['description'])"
   ]
  },
  {
   "cell_type": "code",
   "execution_count": 116,
   "metadata": {},
   "outputs": [],
   "source": [
    "X_train,X_test,y_train,y_test = train_test_split(X,y,test_size= 0.3,random_state=0)"
   ]
  },
  {
   "cell_type": "code",
   "execution_count": 117,
   "metadata": {},
   "outputs": [],
   "source": [
    "rfc=RandomForestClassifier(n_estimators=5,min_impurity_split=0.80,random_state=1)\n",
    "rfc.fit(X_train,y_train)\n",
    "pred=rfc.predict(X_test)\n",
    "score = accuracy_score(y_test,pred)"
   ]
  },
  {
   "cell_type": "code",
   "execution_count": 118,
   "metadata": {},
   "outputs": [
    {
     "data": {
      "text/plain": [
       "0.36094254866419734"
      ]
     },
     "execution_count": 118,
     "metadata": {},
     "output_type": "execute_result"
    }
   ],
   "source": [
    "score"
   ]
  },
  {
   "cell_type": "markdown",
   "metadata": {},
   "source": [
    "Using description, prediction of primary genre is accurate for more than 1/3 of the test data. Lets try to do better in multilabel classification. I will start with using descprition as the only feature. "
   ]
  },
  {
   "cell_type": "code",
   "execution_count": 119,
   "metadata": {},
   "outputs": [],
   "source": [
    "df5=df4[~df4['description'].isnull()]\n",
    "df5=df5[~df5['genres'].isnull()]\n",
    "df5['description']=df5['description'].apply(cleanstring)"
   ]
  },
  {
   "cell_type": "code",
   "execution_count": 134,
   "metadata": {},
   "outputs": [],
   "source": [
    "mlb = MultiLabelBinarizer()\n",
    "mlb.fit(df5['genres'])\n",
    "\n",
    "y = mlb.transform(df5['genres'])"
   ]
  },
  {
   "cell_type": "code",
   "execution_count": 135,
   "metadata": {},
   "outputs": [],
   "source": [
    "X=TfidfVectorizer(\"english\",max_df=0.8, max_features=10000,lowercase=True).fit_transform(df5['description'])\n",
    "X_train,X_test,y_train,y_test = train_test_split(X,y,test_size= 0.3,random_state=2)"
   ]
  },
  {
   "cell_type": "code",
   "execution_count": 136,
   "metadata": {},
   "outputs": [],
   "source": [
    "lr = LogisticRegression()\n",
    "clf = OneVsRestClassifier(lr)"
   ]
  },
  {
   "cell_type": "code",
   "execution_count": 137,
   "metadata": {},
   "outputs": [],
   "source": [
    "clf.fit(X_train,y_train)\n",
    "pred=clf.predict(X_test)"
   ]
  },
  {
   "cell_type": "code",
   "execution_count": 138,
   "metadata": {},
   "outputs": [
    {
     "data": {
      "text/plain": [
       "0.4653681244640451"
      ]
     },
     "execution_count": 138,
     "metadata": {},
     "output_type": "execute_result"
    }
   ],
   "source": [
    "f1_score(y_test,pred, average=\"micro\")"
   ]
  },
  {
   "cell_type": "markdown",
   "metadata": {},
   "source": [
    "To calculate multilabel classification accuracy I used F1-score  \n",
    "2 x ((precision x recall)/(precision + recall)) "
   ]
  },
  {
   "cell_type": "markdown",
   "metadata": {},
   "source": [
    "**multilabel genre classification using keywords**"
   ]
  },
  {
   "cell_type": "code",
   "execution_count": 139,
   "metadata": {},
   "outputs": [],
   "source": [
    "def removepunc(x):\n",
    "    \n",
    "    x = x.translate(str.maketrans('', '', string.punctuation))\n",
    "    return x"
   ]
  },
  {
   "cell_type": "code",
   "execution_count": 140,
   "metadata": {},
   "outputs": [],
   "source": [
    "df5['keywords']=df5['keywords'].astype(str)"
   ]
  },
  {
   "cell_type": "code",
   "execution_count": 141,
   "metadata": {},
   "outputs": [],
   "source": [
    "X2=df5['keywords'].apply(removepunc)\n",
    "X2=TfidfVectorizer(\"english\",max_df=0.8, max_features=10000,lowercase=True).fit_transform(X2)\n",
    "X_train,X_test,y_train,y_test = train_test_split(X2,y,test_size= 0.3,random_state=2)"
   ]
  },
  {
   "cell_type": "code",
   "execution_count": 142,
   "metadata": {},
   "outputs": [
    {
     "data": {
      "text/plain": [
       "0.38075823361219946"
      ]
     },
     "execution_count": 142,
     "metadata": {},
     "output_type": "execute_result"
    }
   ],
   "source": [
    "clf.fit(X_train,y_train)\n",
    "pred=clf.predict(X_test)\n",
    "f1_score(y_test,pred, average=\"micro\")"
   ]
  },
  {
   "cell_type": "markdown",
   "metadata": {},
   "source": [
    "**using keywords + description**"
   ]
  },
  {
   "cell_type": "code",
   "execution_count": 144,
   "metadata": {},
   "outputs": [],
   "source": [
    "X3=sp.hstack([X,X2],format='csr')"
   ]
  },
  {
   "cell_type": "code",
   "execution_count": 145,
   "metadata": {},
   "outputs": [],
   "source": [
    "X_train,X_test,y_train,y_test = train_test_split(X3,y,test_size= 0.3,random_state=2)"
   ]
  },
  {
   "cell_type": "code",
   "execution_count": 146,
   "metadata": {},
   "outputs": [
    {
     "data": {
      "text/plain": [
       "0.5345856660343312"
      ]
     },
     "execution_count": 146,
     "metadata": {},
     "output_type": "execute_result"
    }
   ],
   "source": [
    "clf.fit(X_train,y_train)\n",
    "pred=clf.predict(X_test)\n",
    "f1_score(y_test,pred, average=\"micro\")"
   ]
  },
  {
   "cell_type": "markdown",
   "metadata": {},
   "source": [
    "**using keywords + description + title**"
   ]
  },
  {
   "cell_type": "code",
   "execution_count": 149,
   "metadata": {},
   "outputs": [],
   "source": [
    "df5['title']=df5['title'].astype(str)\n",
    "X4=TfidfVectorizer(\"english\",max_df=0.8, max_features=10000,lowercase=True).fit_transform(df5['title'])"
   ]
  },
  {
   "cell_type": "code",
   "execution_count": 150,
   "metadata": {},
   "outputs": [],
   "source": [
    "X4=sp.hstack([X,X2,X4],format='csr')"
   ]
  },
  {
   "cell_type": "code",
   "execution_count": 151,
   "metadata": {},
   "outputs": [],
   "source": [
    "X_train,X_test,y_train,y_test = train_test_split(X4,y,test_size= 0.3,random_state=2)"
   ]
  },
  {
   "cell_type": "code",
   "execution_count": 152,
   "metadata": {},
   "outputs": [
    {
     "data": {
      "text/plain": [
       "0.5483016800584368"
      ]
     },
     "execution_count": 152,
     "metadata": {},
     "output_type": "execute_result"
    }
   ],
   "source": [
    "clf.fit(X_train,y_train)\n",
    "pred=clf.predict(X_test)\n",
    "f1_score(y_test,pred, average=\"micro\")"
   ]
  },
  {
   "cell_type": "markdown",
   "metadata": {},
   "source": [
    "For multiple column vectors I concatenated the sparse matrix together. The final result of 0.54~ F1 score was the combination of keywords, description and title columns."
   ]
  },
  {
   "cell_type": "code",
   "execution_count": null,
   "metadata": {},
   "outputs": [],
   "source": []
  }
 ],
 "metadata": {
  "colab": {
   "authorship_tag": "ABX9TyPBGXSrxwl9zHx8GVLPt8d/",
   "collapsed_sections": [],
   "name": "data.ipynb",
   "provenance": [],
   "toc_visible": true
  },
  "kernelspec": {
   "display_name": "Python 3",
   "language": "python",
   "name": "python3"
  },
  "language_info": {
   "codemirror_mode": {
    "name": "ipython",
    "version": 3
   },
   "file_extension": ".py",
   "mimetype": "text/x-python",
   "name": "python",
   "nbconvert_exporter": "python",
   "pygments_lexer": "ipython3",
   "version": "3.7.4"
  }
 },
 "nbformat": 4,
 "nbformat_minor": 1
}
